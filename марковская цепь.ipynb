{
 "cells": [
  {
   "cell_type": "markdown",
   "metadata": {},
   "source": [
    "# Марковская цепь"
   ]
  },
  {
   "cell_type": "markdown",
   "metadata": {},
   "source": [
    "Данильченко Вадим"
   ]
  },
  {
   "cell_type": "markdown",
   "metadata": {},
   "source": [
    "-------------------------------------------------------------------------------------------------------------------------------"
   ]
  },
  {
   "cell_type": "markdown",
   "metadata": {},
   "source": [
    "матрица переходных вероятностей на примере текста \"Алисы в стране чудес\""
   ]
  },
  {
   "cell_type": "code",
   "execution_count": 1,
   "metadata": {},
   "outputs": [],
   "source": [
    "import numpy as np\n",
    "import re\n",
    "import matplotlib.pyplot as plt\n",
    "import seaborn as sns\n",
    "import pandas as pd\n",
    "%matplotlib inline\n",
    "sns.set()"
   ]
  },
  {
   "cell_type": "code",
   "execution_count": 2,
   "metadata": {},
   "outputs": [],
   "source": [
    "with open('data/alice_en.txt', 'r') as f:\n",
    "    text = f.read().lower()\n",
    "text = re.sub('[^a-z]','', text)"
   ]
  },
  {
   "cell_type": "code",
   "execution_count": 3,
   "metadata": {},
   "outputs": [],
   "source": [
    "ENGLISH = 'abcdefghijklmnopqrstuvwxyz'\n",
    "POS = {l: i for i, l in enumerate(ENGLISH)}"
   ]
  },
  {
   "cell_type": "code",
   "execution_count": 4,
   "metadata": {},
   "outputs": [
    {
     "data": {
      "text/plain": [
       "{'a': 0,\n",
       " 'b': 1,\n",
       " 'c': 2,\n",
       " 'd': 3,\n",
       " 'e': 4,\n",
       " 'f': 5,\n",
       " 'g': 6,\n",
       " 'h': 7,\n",
       " 'i': 8,\n",
       " 'j': 9,\n",
       " 'k': 10,\n",
       " 'l': 11,\n",
       " 'm': 12,\n",
       " 'n': 13,\n",
       " 'o': 14,\n",
       " 'p': 15,\n",
       " 'q': 16,\n",
       " 'r': 17,\n",
       " 's': 18,\n",
       " 't': 19,\n",
       " 'u': 20,\n",
       " 'v': 21,\n",
       " 'w': 22,\n",
       " 'x': 23,\n",
       " 'y': 24,\n",
       " 'z': 25}"
      ]
     },
     "execution_count": 4,
     "metadata": {},
     "output_type": "execute_result"
    }
   ],
   "source": [
    "POS"
   ]
  },
  {
   "cell_type": "code",
   "execution_count": 5,
   "metadata": {},
   "outputs": [],
   "source": [
    "probabilities = np.zeros((len(ENGLISH), len(ENGLISH)))"
   ]
  },
  {
   "cell_type": "code",
   "execution_count": 19,
   "metadata": {},
   "outputs": [
    {
     "data": {
      "text/plain": [
       "array([[1.100e-03, 2.830e-02, 2.680e-02, 5.250e-02, 2.000e-04, 1.110e-02,\n",
       "        2.650e-02, 4.900e-03, 7.810e-02, 1.500e-03, 1.400e-02, 1.160e-01,\n",
       "        2.510e-02, 1.838e-01, 6.000e-04, 1.880e-02, 3.000e-04, 8.940e-02,\n",
       "        1.028e-01, 1.432e-01, 8.700e-03, 2.120e-02, 1.310e-02, 1.200e-03,\n",
       "        3.030e-02, 5.000e-04],\n",
       "       [4.870e-02, 3.780e-02, 0.000e+00, 6.000e-04, 3.723e-01, 0.000e+00,\n",
       "        0.000e+00, 6.000e-04, 6.870e-02, 4.600e-03, 0.000e+00, 7.390e-02,\n",
       "        6.000e-04, 1.100e-03, 1.323e-01, 1.700e-03, 0.000e+00, 3.550e-02,\n",
       "        1.950e-02, 8.000e-03, 1.386e-01, 0.000e+00, 0.000e+00, 0.000e+00,\n",
       "        5.560e-02, 0.000e+00]])"
      ]
     },
     "execution_count": 19,
     "metadata": {},
     "output_type": "execute_result"
    }
   ],
   "source": [
    "np.round(probabilities[:2], 4)"
   ]
  },
  {
   "cell_type": "code",
   "execution_count": 9,
   "metadata": {},
   "outputs": [
    {
     "data": {
      "text/plain": [
       "'projectgutenbergsalicesadventuresinwonderlandbylewiscarrollthisebookisfortheuseofanyoneanywhereatnocostandwithalmostnorestrictionswhatsoeveryoumaycopyitgiveitawayorreuseitunderthetermsoftheprojectgutenberglicenseincludedwiththisebookoronlineatwwwgutenbergorgtitlealicesadventuresinwonderlandauthorlewiscarrollpostingdatejuneebookreleasedatemarchlastupdateddecemberlanguageenglishcharactersetencodingasciistartofthisprojectgutenbergebookalicesadventuresinwonderlandalicesadventuresinwonderlandlewiscar'"
      ]
     },
     "execution_count": 9,
     "metadata": {},
     "output_type": "execute_result"
    }
   ],
   "source": [
    "text[:500]"
   ]
  },
  {
   "cell_type": "code",
   "execution_count": 10,
   "metadata": {},
   "outputs": [],
   "source": [
    "for cp, cn in zip(text[:-1], text[1:]):\n",
    "#     print(cp,cn)\n",
    "    probabilities[POS[cp], POS[cn]] += 1"
   ]
  },
  {
   "cell_type": "code",
   "execution_count": 12,
   "metadata": {},
   "outputs": [
    {
     "data": {
      "text/plain": [
       "array([[1.100e+01, 2.770e+02, 2.630e+02, 5.150e+02, 2.000e+00, 1.090e+02,\n",
       "        2.600e+02, 4.800e+01, 7.660e+02, 1.500e+01, 1.370e+02, 1.137e+03,\n",
       "        2.460e+02, 1.802e+03, 6.000e+00, 1.840e+02, 3.000e+00, 8.770e+02,\n",
       "        1.008e+03, 1.404e+03, 8.500e+01, 2.080e+02, 1.280e+02, 1.200e+01,\n",
       "        2.970e+02, 5.000e+00],\n",
       "       [8.500e+01, 6.600e+01, 0.000e+00, 1.000e+00, 6.500e+02, 0.000e+00,\n",
       "        0.000e+00, 1.000e+00, 1.200e+02, 8.000e+00, 0.000e+00, 1.290e+02,\n",
       "        1.000e+00, 2.000e+00, 2.310e+02, 3.000e+00, 0.000e+00, 6.200e+01,\n",
       "        3.400e+01, 1.400e+01, 2.420e+02, 0.000e+00, 0.000e+00, 0.000e+00,\n",
       "        9.700e+01, 0.000e+00]])"
      ]
     },
     "execution_count": 12,
     "metadata": {},
     "output_type": "execute_result"
    }
   ],
   "source": [
    "probabilities[:2]"
   ]
  },
  {
   "cell_type": "code",
   "execution_count": 13,
   "metadata": {},
   "outputs": [],
   "source": [
    "probabilities = (probabilities / probabilities.sum(axis=1)[:, None])"
   ]
  },
  {
   "cell_type": "code",
   "execution_count": 14,
   "metadata": {},
   "outputs": [
    {
     "data": {
      "text/plain": [
       "0.9999999999999998"
      ]
     },
     "execution_count": 14,
     "metadata": {},
     "output_type": "execute_result"
    }
   ],
   "source": [
    "sum(probabilities[0])"
   ]
  },
  {
   "cell_type": "code",
   "execution_count": 15,
   "metadata": {},
   "outputs": [],
   "source": [
    "df = pd.DataFrame(probabilities, index=(c for c in ENGLISH), columns=(c for c in ENGLISH))"
   ]
  },
  {
   "cell_type": "code",
   "execution_count": 16,
   "metadata": {},
   "outputs": [
    {
     "data": {
      "image/png": "[encoded data removed]",
      "text/plain": [
       "<Figure size 1008x576 with 2 Axes>"
      ]
     },
     "metadata": {
      "needs_background": "light"
     },
     "output_type": "display_data"
    }
   ],
   "source": [
    "plt.figure(figsize=(14,8))\n",
    "sns.heatmap(df)\n",
    "plt.show()"
   ]
  },
  {
   "cell_type": "markdown",
   "metadata": {},
   "source": [
    "# Траектория в цепи"
   ]
  },
  {
   "cell_type": "markdown",
   "metadata": {},
   "source": [
    "Теперь вопрос: допустим, что у нас есть какая-то траектория (последовательность состояний). Какова её вероятность? Ответ на этот вопрос даст одна простая теорема.\n",
    "\n",
    "**Теорема о состояниях марковской цепи**\n",
    "\n",
    "Для любого натурального $n$ и любых $i_0,i_1,…,i_{n−1},i,j$\n",
    "\n",
    "$P(X_0=i_0,X_1=i_1,…,X_n=i_n)=α_{i_0}p_{i_0i_1}…p{i_{n−1}i_n}.$\n",
    "\n",
    "Пример: Пусть вероятность начального состояния цепи для букв английского алфавита равна $\\dfrac{1}{26}$.\n",
    "Чему равна вероятность наблюдать строку \"hello\"?"
   ]
  },
  {
   "cell_type": "markdown",
   "metadata": {},
   "source": [
    "посчитаем вероятность наблюдать строку \"hello\" при вероятности начального состояния цепи для букв английского алфавита $\\dfrac{1}{26}$."
   ]
  },
  {
   "cell_type": "code",
   "execution_count": 20,
   "metadata": {},
   "outputs": [
    {
     "name": "stdout",
     "output_type": "stream",
     "text": [
      "h e\n",
      "e l\n",
      "l l\n",
      "l o\n",
      "9.267238567090392e-06\n"
     ]
    }
   ],
   "source": [
    "string = \"hello\"\n",
    "proba = 1.0 / 26\n",
    "for cp, cn in zip(string[:-1], string[1:]):\n",
    "    proba *= probabilities[POS[cp], POS[cn]]\n",
    "    print(cp, cn)\n",
    "print(proba)"
   ]
  },
  {
   "cell_type": "markdown",
   "metadata": {},
   "source": [
    "подсчитаем вероятность, что слово из 3 букв начинается на букву \"h\" и заканчивается на букву \"y\""
   ]
  },
  {
   "cell_type": "code",
   "execution_count": 21,
   "metadata": {},
   "outputs": [
    {
     "name": "stdout",
     "output_type": "stream",
     "text": [
      "hay 0.00019786241179454468\n",
      "hby 3.2498131357446945e-06\n",
      "hcy 2.5963886570530186e-07\n",
      "hdy 2.00246712505073e-06\n",
      "hey 0.00041670464060019366\n",
      "hfy 2.4496387427496224e-06\n",
      "hgy 2.2022341052346015e-07\n",
      "hhy 3.0694052582470812e-06\n",
      "hky 1.0202901705244971e-07\n",
      "hly 6.987940162352581e-06\n",
      "hmy 4.054691865351508e-06\n",
      "hny 1.0187698076726042e-06\n",
      "hoy 2.0758961455728112e-05\n",
      "hpy 2.095534994542692e-06\n",
      "hry 2.9097918521227684e-05\n",
      "hsy 2.6301624264116166e-06\n",
      "hty 2.5534949950507335e-05\n",
      "huy 2.316043298098595e-07\n",
      "hvy 3.0372085380791536e-08\n",
      "hwy 6.902550257831721e-07\n",
      "hyy 4.816238159185105e-06\n"
     ]
    }
   ],
   "source": [
    "start = POS['h']\n",
    "end = POS['y']\n",
    "prior = 1. / len(ENGLISH)\n",
    "for c in ENGLISH:\n",
    "    proba = prior * probabilities[start, POS[c]] * probabilities[POS[c], end]\n",
    "    if proba > 0:\n",
    "        print(''.join(['h', c, 'y']), proba)"
   ]
  },
  {
   "cell_type": "markdown",
   "metadata": {},
   "source": [
    "сгенерируем выбороку из марковской цепи"
   ]
  },
  {
   "cell_type": "code",
   "execution_count": 22,
   "metadata": {},
   "outputs": [
    {
     "name": "stdout",
     "output_type": "stream",
     "text": [
      "jueadshylic\n"
     ]
    }
   ],
   "source": [
    "s = []\n",
    "start = np.random.choice(list(ENGLISH))\n",
    "s.append(start)\n",
    "length = 10\n",
    "for i in range(length):\n",
    "    index = POS[s[i]]\n",
    "    next_char = np.random.choice(list(ENGLISH), p=probabilities[index])\n",
    "    s.append(next_char)\n",
    "\n",
    "print (''.join(s))"
   ]
  },
  {
   "cell_type": "markdown",
   "metadata": {},
   "source": [
    "#### повторим для русского алфавита на книге \"Война и Мир\""
   ]
  },
  {
   "cell_type": "markdown",
   "metadata": {},
   "source": [
    "* Скачаем текст войны и мир. Очистим его, оставив только русские буквы и символы пробела. Построим матрицу переходных вероятностей. Посчитаем вероятность встретить строку из 4-х символов, которая начинается п, а кончается на р\n",
    "* Используя матрицу переходных вероятностей сгенерируем слово, начинающееся с буквы \"Б\" и имеющее длину 8-мь символов"
   ]
  },
  {
   "cell_type": "code",
   "execution_count": 92,
   "metadata": {},
   "outputs": [
    {
     "data": {
      "text/plain": [
       "'лев толстойвойна и миртом том часть перваячасть ор'"
      ]
     },
     "execution_count": 92,
     "metadata": {},
     "output_type": "execute_result"
    }
   ],
   "source": [
    "# запишем в строковую переменную 4 тома произведения\n",
    "text=''\n",
    "for i in range(1,5):\n",
    "    with open('data/Война и Мир/tom_'+str(i)+'.txt', 'r', encoding='utf-8') as f:\n",
    "        temp_text = f.read().lower()\n",
    "    text+=temp_text\n",
    "    temp_text=''\n",
    "\n",
    "# уберем все символы, не входящие в русский алфавит и не пробельные \n",
    "text = re.sub('[^а-я\\s]','', text)\n",
    "# уберем знак переноса строки и табуляции\n",
    "text = re.sub('[\\t\\n]','', text)\n",
    "# уберем лишние пробелы, оставим только по одному\n",
    "text = text.split()\n",
    "text = ' '.join(text)\n",
    "\n",
    "text[:50]"
   ]
  },
  {
   "cell_type": "code",
   "execution_count": 93,
   "metadata": {},
   "outputs": [
    {
     "data": {
      "text/plain": [
       "{'а': 0,\n",
       " 'б': 1,\n",
       " 'в': 2,\n",
       " 'г': 3,\n",
       " 'д': 4,\n",
       " 'е': 5,\n",
       " 'ж': 6,\n",
       " 'з': 7,\n",
       " 'и': 8,\n",
       " 'й': 9,\n",
       " 'к': 10,\n",
       " 'л': 11,\n",
       " 'м': 12,\n",
       " 'н': 13,\n",
       " 'о': 14,\n",
       " 'п': 15,\n",
       " 'р': 16,\n",
       " 'с': 17,\n",
       " 'т': 18,\n",
       " 'у': 19,\n",
       " 'ф': 20,\n",
       " 'х': 21,\n",
       " 'ц': 22,\n",
       " 'ч': 23,\n",
       " 'ш': 24,\n",
       " 'щ': 25,\n",
       " 'ъ': 26,\n",
       " 'ы': 27,\n",
       " 'ь': 28,\n",
       " 'э': 29,\n",
       " 'ю': 30,\n",
       " 'я': 31}"
      ]
     },
     "execution_count": 93,
     "metadata": {},
     "output_type": "execute_result"
    }
   ],
   "source": [
    "Russian = 'абвгдежзийклмнопрстуфхцчшщъыьэюя'\n",
    "POS = {l: i for i, l in enumerate(Russian)}\n",
    "POS"
   ]
  },
  {
   "cell_type": "code",
   "execution_count": 94,
   "metadata": {},
   "outputs": [],
   "source": [
    "probabilities = np.zeros((len(Russian), len(Russian)))"
   ]
  },
  {
   "cell_type": "code",
   "execution_count": 95,
   "metadata": {},
   "outputs": [],
   "source": [
    "for cp, cn in zip(text[:-1], text[1:]):\n",
    "    if cp == ' ' or cn == ' ':\n",
    "        continue\n",
    "    else:\n",
    "        probabilities[POS[cp], POS[cn]] += 1"
   ]
  },
  {
   "cell_type": "code",
   "execution_count": 96,
   "metadata": {},
   "outputs": [],
   "source": [
    "probabilities = (probabilities / probabilities.sum(axis=1)[:, None])"
   ]
  },
  {
   "cell_type": "code",
   "execution_count": 97,
   "metadata": {
    "scrolled": true
   },
   "outputs": [],
   "source": [
    "df = pd.DataFrame(probabilities, index=(c for c in Russian), columns=(c for c in Russian))"
   ]
  },
  {
   "cell_type": "code",
   "execution_count": 98,
   "metadata": {},
   "outputs": [
    {
     "data": {
      "image/png": "[encoded data removed]",
      "text/plain": [
       "<Figure size 1008x576 with 2 Axes>"
      ]
     },
     "metadata": {
      "needs_background": "light"
     },
     "output_type": "display_data"
    }
   ],
   "source": [
    "plt.figure(figsize=(14,8))\n",
    "sns.heatmap(df, cmap='coolwarm')\n",
    "plt.show()"
   ]
  },
  {
   "cell_type": "markdown",
   "metadata": {},
   "source": [
    "Посчитаем вероятность встретить строку из 4-х символов, которая начинается п, а кончается на р"
   ]
  },
  {
   "cell_type": "code",
   "execution_count": 99,
   "metadata": {},
   "outputs": [],
   "source": [
    "P_start = 1/len(probabilities[0])\n",
    "probability = {}\n",
    "for i in Russian:\n",
    "    for j in Russian:\n",
    "        prob = P_start * probabilities[POS['п'], POS[i]] * probabilities[POS[i], POS[j]] * probabilities[POS[j], POS['р']]\n",
    "        if prob > 0:\n",
    "            probability.setdefault(''.join(['п', i, j, 'р']), prob)"
   ]
  },
  {
   "cell_type": "code",
   "execution_count": 100,
   "metadata": {
    "scrolled": true
   },
   "outputs": [
    {
     "data": {
      "text/plain": [
       "[('прер', 0.00017372448232442147),\n",
       " ('прор', 0.00012950243922538768),\n",
       " ('прар', 0.00010749303898581705),\n",
       " ('потр', 6.360553099258459e-05),\n",
       " ('попр', 5.6748846813100625e-05),\n",
       " ('погр', 5.5211953807423746e-05),\n",
       " ('подр', 5.450155618521257e-05),\n",
       " ('поер', 4.6446798154806376e-05),\n",
       " ('побр', 4.087093294705964e-05),\n",
       " ('пьер', 2.6927134612879777e-05)]"
      ]
     },
     "execution_count": 100,
     "metadata": {},
     "output_type": "execute_result"
    }
   ],
   "source": [
    "# Выведем TOP-10 строк по вероятности\n",
    "\n",
    "dict_ = list(probability.items())\n",
    "dict_.sort(key=lambda i: i[1], reverse=True)\n",
    "dict_[:10]"
   ]
  },
  {
   "cell_type": "markdown",
   "metadata": {},
   "source": [
    "Теперь сгенерируем слово, начинающееся с буквы \"Б\" и имеющее длину 8-мь символов"
   ]
  },
  {
   "cell_type": "code",
   "execution_count": 103,
   "metadata": {
    "scrolled": true
   },
   "outputs": [
    {
     "name": "stdout",
     "output_type": "stream",
     "text": [
      "буюдвахая\n"
     ]
    }
   ],
   "source": [
    "s = ['б']\n",
    "length = 8\n",
    "for i in range(length):\n",
    "    index = POS[s[i]]\n",
    "    next_char = np.random.choice(list(Russian), p=probabilities[index])\n",
    "    s.append(next_char)\n",
    "\n",
    "print (''.join(s))"
   ]
  },
  {
   "cell_type": "code",
   "execution_count": null,
   "metadata": {},
   "outputs": [],
   "source": []
  }
 ],
 "metadata": {
  "kernelspec": {
   "display_name": "Python 3",
   "language": "python",
   "name": "python3"
  },
  "language_info": {
   "codemirror_mode": {
    "name": "ipython",
    "version": 3
   },
   "file_extension": ".py",
   "mimetype": "text/x-python",
   "name": "python",
   "nbconvert_exporter": "python",
   "pygments_lexer": "ipython3",
   "version": "3.7.4"
  }
 },
 "nbformat": 4,
 "nbformat_minor": 2
}
