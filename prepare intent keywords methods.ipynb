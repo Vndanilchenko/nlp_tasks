{
 "cells": [
  {
   "cell_type": "markdown",
   "metadata": {},
   "source": [
    "# ВЫДЕЛЕНИЕ КЛЮЧЕВЫХ СЛОВ ДЛЯ ПОСЛЕДУЮЩЕГО ИСПОЛЬЗОВАНИЯ В ПОДГОТОВКЕ ЭМБЕДДИНГА К МОДЕЛЯМ КЛАССИФИКАЦИИ"
   ]
  },
  {
   "cell_type": "markdown",
   "metadata": {},
   "source": [
    "Данильченко Вадим"
   ]
  },
  {
   "cell_type": "code",
   "execution_count": 4,
   "metadata": {},
   "outputs": [],
   "source": [
    "import warnings\n",
    "warnings.filterwarnings('ignore')\n",
    "import matplotlib.pyplot as plt"
   ]
  },
  {
   "cell_type": "code",
   "execution_count": 58,
   "metadata": {},
   "outputs": [
    {
     "data": {
      "text/html": [
       "<div>\n",
       "<style scoped>\n",
       "    .dataframe tbody tr th:only-of-type {\n",
       "        vertical-align: middle;\n",
       "    }\n",
       "\n",
       "    .dataframe tbody tr th {\n",
       "        vertical-align: top;\n",
       "    }\n",
       "\n",
       "    .dataframe thead th {\n",
       "        text-align: right;\n",
       "    }\n",
       "</style>\n",
       "<table border=\"1\" class=\"dataframe\">\n",
       "  <thead>\n",
       "    <tr style=\"text-align: right;\">\n",
       "      <th></th>\n",
       "      <th>intent_id</th>\n",
       "      <th>domain</th>\n",
       "      <th>labeled</th>\n",
       "      <th>message</th>\n",
       "      <th>mode</th>\n",
       "      <th>intent</th>\n",
       "      <th>nanswer</th>\n",
       "      <th>xmlcommand</th>\n",
       "      <th>classes</th>\n",
       "      <th>terms</th>\n",
       "      <th>groups</th>\n",
       "      <th>threshold_explicit</th>\n",
       "      <th>threshold_lowest</th>\n",
       "    </tr>\n",
       "  </thead>\n",
       "  <tbody>\n",
       "    <tr>\n",
       "      <th>0</th>\n",
       "      <td>gi009</td>\n",
       "      <td>d_general</td>\n",
       "      <td>1</td>\n",
       "      <td>а деньги , которые внесла они безвозвратно ушл...</td>\n",
       "      <td>активен</td>\n",
       "      <td>будут ли возвращены арестованные деньги?</td>\n",
       "      <td>Будут ли возвращены денежные средства и в каки...</td>\n",
       "      <td>NaN</td>\n",
       "      <td>вопрос,ситуация</td>\n",
       "      <td>арест,поступление</td>\n",
       "      <td>Арест</td>\n",
       "      <td>NaN</td>\n",
       "      <td>NaN</td>\n",
       "    </tr>\n",
       "    <tr>\n",
       "      <th>1</th>\n",
       "      <td>gi009</td>\n",
       "      <td>d_general</td>\n",
       "      <td>1</td>\n",
       "      <td>а деньги которые они заморозили они вернуться ?</td>\n",
       "      <td>активен</td>\n",
       "      <td>будут ли возвращены арестованные деньги?</td>\n",
       "      <td>NaN</td>\n",
       "      <td>NaN</td>\n",
       "      <td>вопрос,ситуация</td>\n",
       "      <td>NaN</td>\n",
       "      <td>Арест</td>\n",
       "      <td>NaN</td>\n",
       "      <td>NaN</td>\n",
       "    </tr>\n",
       "    <tr>\n",
       "      <th>2</th>\n",
       "      <td>gi009</td>\n",
       "      <td>d_general</td>\n",
       "      <td>1</td>\n",
       "      <td>а деньги приставы вернули ?</td>\n",
       "      <td>активен</td>\n",
       "      <td>будут ли возвращены арестованные деньги?</td>\n",
       "      <td>NaN</td>\n",
       "      <td>NaN</td>\n",
       "      <td>вопрос,ситуация</td>\n",
       "      <td>NaN</td>\n",
       "      <td>Арест</td>\n",
       "      <td>NaN</td>\n",
       "      <td>NaN</td>\n",
       "    </tr>\n",
       "    <tr>\n",
       "      <th>3</th>\n",
       "      <td>gi009</td>\n",
       "      <td>d_general</td>\n",
       "      <td>1</td>\n",
       "      <td>а если арест со счета сняли удержанные средств...</td>\n",
       "      <td>активен</td>\n",
       "      <td>будут ли возвращены арестованные деньги?</td>\n",
       "      <td>NaN</td>\n",
       "      <td>NaN</td>\n",
       "      <td>вопрос,ситуация</td>\n",
       "      <td>снятие,арест,счет</td>\n",
       "      <td>Арест</td>\n",
       "      <td>NaN</td>\n",
       "      <td>NaN</td>\n",
       "    </tr>\n",
       "    <tr>\n",
       "      <th>4</th>\n",
       "      <td>gi009</td>\n",
       "      <td>d_general</td>\n",
       "      <td>1</td>\n",
       "      <td>а когда деньги должны вернуться ?</td>\n",
       "      <td>активен</td>\n",
       "      <td>будут ли возвращены арестованные деньги?</td>\n",
       "      <td>NaN</td>\n",
       "      <td>NaN</td>\n",
       "      <td>вопрос,когда</td>\n",
       "      <td>NaN</td>\n",
       "      <td>Арест</td>\n",
       "      <td>NaN</td>\n",
       "      <td>NaN</td>\n",
       "    </tr>\n",
       "  </tbody>\n",
       "</table>\n",
       "</div>"
      ],
      "text/plain": [
       "  intent_id     domain  labeled  \\\n",
       "0     gi009  d_general        1   \n",
       "1     gi009  d_general        1   \n",
       "2     gi009  d_general        1   \n",
       "3     gi009  d_general        1   \n",
       "4     gi009  d_general        1   \n",
       "\n",
       "                                             message     mode  \\\n",
       "0  а деньги , которые внесла они безвозвратно ушл...  активен   \n",
       "1    а деньги которые они заморозили они вернуться ?  активен   \n",
       "2                        а деньги приставы вернули ?  активен   \n",
       "3  а если арест со счета сняли удержанные средств...  активен   \n",
       "4                  а когда деньги должны вернуться ?  активен   \n",
       "\n",
       "                                     intent  \\\n",
       "0  будут ли возвращены арестованные деньги?   \n",
       "1  будут ли возвращены арестованные деньги?   \n",
       "2  будут ли возвращены арестованные деньги?   \n",
       "3  будут ли возвращены арестованные деньги?   \n",
       "4  будут ли возвращены арестованные деньги?   \n",
       "\n",
       "                                             nanswer xmlcommand  \\\n",
       "0  Будут ли возвращены денежные средства и в каки...        NaN   \n",
       "1                                                NaN        NaN   \n",
       "2                                                NaN        NaN   \n",
       "3                                                NaN        NaN   \n",
       "4                                                NaN        NaN   \n",
       "\n",
       "           classes              terms  groups  threshold_explicit  \\\n",
       "0  вопрос,ситуация  арест,поступление  Арест                  NaN   \n",
       "1  вопрос,ситуация                NaN  Арест                  NaN   \n",
       "2  вопрос,ситуация                NaN  Арест                  NaN   \n",
       "3  вопрос,ситуация  снятие,арест,счет  Арест                  NaN   \n",
       "4     вопрос,когда                NaN  Арест                  NaN   \n",
       "\n",
       "   threshold_lowest  \n",
       "0               NaN  \n",
       "1               NaN  \n",
       "2               NaN  \n",
       "3               NaN  \n",
       "4               NaN  "
      ]
     },
     "execution_count": 58,
     "metadata": {},
     "output_type": "execute_result"
    }
   ],
   "source": [
    "import pandas as pd\n",
    "df = pd.read_excel('./train_data.xlsx')\n",
    "df.head()"
   ]
  },
  {
   "cell_type": "code",
   "execution_count": 59,
   "metadata": {},
   "outputs": [
    {
     "data": {
      "text/plain": [
       "'заключил с банком кредитный договор , а в приложение войти не могу , тк выдает старый номер телефона'"
      ]
     },
     "execution_count": 59,
     "metadata": {},
     "output_type": "execute_result"
    }
   ],
   "source": [
    "df.loc[74599, 'message']"
   ]
  },
  {
   "cell_type": "code",
   "execution_count": 60,
   "metadata": {
    "slideshow": {
     "slide_type": "subslide"
    }
   },
   "outputs": [
    {
     "name": "stderr",
     "output_type": "stream",
     "text": [
      "100%|█████████████████████████████████████████████████████████████████████████| 77203/77203 [00:01<00:00, 76793.54it/s]\n"
     ]
    }
   ],
   "source": [
    "import re\n",
    "from tqdm import trange\n",
    "\n",
    "regex = re.compile(\"[А-Яа-я]+\")\n",
    "\n",
    "def words_only(text, regex=regex):\n",
    "    return \" \".join(regex.findall(text))\n",
    "\n",
    "\n",
    "# df['text'] = df.message.str.lower()\n",
    "# df['text'] = df.text.apply(lambda x: re.sub(r'[^а-яА-Я]', ' ', x))\n",
    "# df['text'] = df.text.apply(lambda x: re.sub(r' \\{2,}', ' ', x).strip())\n",
    "\n",
    "text = []\n",
    "for i in trange(df.shape[0]):\n",
    "#     text.append(words_only(df.text.iloc[i]))\n",
    "    text.append(re.sub(r' \\{2,}', ' ', re.sub(r'[^а-яА-Я]', ' ', str(df.loc[i, 'message']).lower())))\n",
    "    \n",
    "df['text'] = text"
   ]
  },
  {
   "cell_type": "markdown",
   "metadata": {
    "slideshow": {
     "slide_type": "subslide"
    }
   },
   "source": [
    "Результат:"
   ]
  },
  {
   "cell_type": "code",
   "execution_count": 61,
   "metadata": {
    "slideshow": {
     "slide_type": "subslide"
    }
   },
   "outputs": [
    {
     "name": "stdout",
     "output_type": "stream",
     "text": [
      "['и', 'в', 'во', 'что', 'он', 'на', 'я', 'с', 'со', 'как', 'а', 'то', 'все', 'она', 'так', 'его', 'но', 'да', 'ты', 'к', 'у', 'же', 'вы', 'за', 'бы', 'по', 'только', 'ее', 'мне', 'было', 'вот', 'от', 'меня', 'еще', 'нет', 'о', 'из', 'ему', 'теперь', 'когда', 'даже', 'ну', 'вдруг', 'ли', 'если', 'уже', 'или', 'ни', 'быть', 'был', 'него', 'до', 'вас', 'нибудь', 'опять', 'уж', 'вам', 'ведь', 'там', 'потом', 'себя', 'ничего', 'ей', 'может', 'они', 'тут', 'где', 'есть', 'надо', 'ней', 'для', 'мы', 'тебя', 'их', 'чем', 'была', 'сам', 'чтоб', 'без', 'будто', 'чего', 'раз', 'тоже', 'себе', 'под', 'будет', 'ж', 'тогда', 'кто', 'этот', 'того', 'потому', 'этого', 'какой', 'совсем', 'ним', 'здесь', 'этом', 'один', 'почти', 'мой', 'тем', 'чтобы', 'нее', 'сейчас', 'были', 'куда', 'зачем', 'всех', 'никогда', 'можно', 'при', 'наконец', 'два', 'об', 'другой', 'хоть', 'после', 'над', 'больше', 'тот', 'через', 'эти', 'нас', 'про', 'всего', 'них', 'какая', 'много', 'разве', 'три', 'эту', 'моя', 'впрочем', 'хорошо', 'свою', 'этой', 'перед', 'иногда', 'лучше', 'чуть', 'том', 'нельзя', 'такой', 'им', 'более', 'всегда', 'конечно', 'всю', 'между', 'это', 'наш', 'тыс', 'млн', 'млрд', 'также', 'т', 'д']\n"
     ]
    }
   ],
   "source": [
    "from nltk.corpus import stopwords\n",
    "mystopwords = stopwords.words('russian') + ['это', 'наш' , 'тыс', 'млн', 'млрд', 'также',  'т', 'д'] \n",
    "mystopwords.remove('не')\n",
    "\n",
    "print(mystopwords)\n",
    "def  remove_stopwords(text, mystopwords = mystopwords):\n",
    "    try:\n",
    "        return \" \".join([token for token in text.split() if not token in mystopwords])\n",
    "    except:\n",
    "        return \"\"\n",
    "df.text = df.text.apply(remove_stopwords)   "
   ]
  },
  {
   "cell_type": "markdown",
   "metadata": {
    "slideshow": {
     "slide_type": "slide"
    }
   },
   "source": [
    "### Лемматизация"
   ]
  },
  {
   "cell_type": "code",
   "execution_count": 62,
   "metadata": {},
   "outputs": [],
   "source": [
    "from pymystem3 import Mystem"
   ]
  },
  {
   "cell_type": "code",
   "execution_count": 63,
   "metadata": {
    "slideshow": {
     "slide_type": "subslide"
    }
   },
   "outputs": [
    {
     "name": "stdout",
     "output_type": "stream",
     "text": [
      "Wall time: 18.9 s\n"
     ]
    }
   ],
   "source": [
    "%%time \n",
    "# from pymystem3 import Mystem\n",
    "from pymorphy2 import MorphAnalyzer\n",
    "\n",
    "# m = Mystem()\n",
    "m = MorphAnalyzer()\n",
    "def lemmatize(text, mystem=m):\n",
    "    try:\n",
    "#         return \"\".join(m.lemmatize(text)).strip()  \n",
    "        return \"\".join(m.parse(text)[0].normal_form).strip()  \n",
    "    except:\n",
    "        return \" \"\n",
    "\n",
    "df.text = df.text.apply(lemmatize)"
   ]
  },
  {
   "cell_type": "code",
   "execution_count": 64,
   "metadata": {},
   "outputs": [
    {
     "data": {
      "text/html": [
       "<div>\n",
       "<style scoped>\n",
       "    .dataframe tbody tr th:only-of-type {\n",
       "        vertical-align: middle;\n",
       "    }\n",
       "\n",
       "    .dataframe tbody tr th {\n",
       "        vertical-align: top;\n",
       "    }\n",
       "\n",
       "    .dataframe thead th {\n",
       "        text-align: right;\n",
       "    }\n",
       "</style>\n",
       "<table border=\"1\" class=\"dataframe\">\n",
       "  <thead>\n",
       "    <tr style=\"text-align: right;\">\n",
       "      <th></th>\n",
       "      <th>intent_id</th>\n",
       "      <th>domain</th>\n",
       "      <th>labeled</th>\n",
       "      <th>message</th>\n",
       "      <th>mode</th>\n",
       "      <th>intent</th>\n",
       "      <th>nanswer</th>\n",
       "      <th>xmlcommand</th>\n",
       "      <th>classes</th>\n",
       "      <th>terms</th>\n",
       "      <th>groups</th>\n",
       "      <th>threshold_explicit</th>\n",
       "      <th>threshold_lowest</th>\n",
       "      <th>text</th>\n",
       "    </tr>\n",
       "  </thead>\n",
       "  <tbody>\n",
       "    <tr>\n",
       "      <th>0</th>\n",
       "      <td>gi009</td>\n",
       "      <td>d_general</td>\n",
       "      <td>1</td>\n",
       "      <td>а деньги , которые внесла они безвозвратно ушл...</td>\n",
       "      <td>активен</td>\n",
       "      <td>будут ли возвращены арестованные деньги?</td>\n",
       "      <td>Будут ли возвращены денежные средства и в каки...</td>\n",
       "      <td>NaN</td>\n",
       "      <td>вопрос,ситуация</td>\n",
       "      <td>арест,поступление</td>\n",
       "      <td>Арест</td>\n",
       "      <td>NaN</td>\n",
       "      <td>NaN</td>\n",
       "      <td>деньги которые внесла безвозвратно ушли арест</td>\n",
       "    </tr>\n",
       "    <tr>\n",
       "      <th>1</th>\n",
       "      <td>gi009</td>\n",
       "      <td>d_general</td>\n",
       "      <td>1</td>\n",
       "      <td>а деньги которые они заморозили они вернуться ?</td>\n",
       "      <td>активен</td>\n",
       "      <td>будут ли возвращены арестованные деньги?</td>\n",
       "      <td>NaN</td>\n",
       "      <td>NaN</td>\n",
       "      <td>вопрос,ситуация</td>\n",
       "      <td>NaN</td>\n",
       "      <td>Арест</td>\n",
       "      <td>NaN</td>\n",
       "      <td>NaN</td>\n",
       "      <td>деньги которые заморозили вернуться</td>\n",
       "    </tr>\n",
       "    <tr>\n",
       "      <th>2</th>\n",
       "      <td>gi009</td>\n",
       "      <td>d_general</td>\n",
       "      <td>1</td>\n",
       "      <td>а деньги приставы вернули ?</td>\n",
       "      <td>активен</td>\n",
       "      <td>будут ли возвращены арестованные деньги?</td>\n",
       "      <td>NaN</td>\n",
       "      <td>NaN</td>\n",
       "      <td>вопрос,ситуация</td>\n",
       "      <td>NaN</td>\n",
       "      <td>Арест</td>\n",
       "      <td>NaN</td>\n",
       "      <td>NaN</td>\n",
       "      <td>деньги приставы вернуть</td>\n",
       "    </tr>\n",
       "    <tr>\n",
       "      <th>3</th>\n",
       "      <td>gi009</td>\n",
       "      <td>d_general</td>\n",
       "      <td>1</td>\n",
       "      <td>а если арест со счета сняли удержанные средств...</td>\n",
       "      <td>активен</td>\n",
       "      <td>будут ли возвращены арестованные деньги?</td>\n",
       "      <td>NaN</td>\n",
       "      <td>NaN</td>\n",
       "      <td>вопрос,ситуация</td>\n",
       "      <td>снятие,арест,счет</td>\n",
       "      <td>Арест</td>\n",
       "      <td>NaN</td>\n",
       "      <td>NaN</td>\n",
       "      <td>арест счета сняли удержанные средства вернуться</td>\n",
       "    </tr>\n",
       "    <tr>\n",
       "      <th>4</th>\n",
       "      <td>gi009</td>\n",
       "      <td>d_general</td>\n",
       "      <td>1</td>\n",
       "      <td>а когда деньги должны вернуться ?</td>\n",
       "      <td>активен</td>\n",
       "      <td>будут ли возвращены арестованные деньги?</td>\n",
       "      <td>NaN</td>\n",
       "      <td>NaN</td>\n",
       "      <td>вопрос,когда</td>\n",
       "      <td>NaN</td>\n",
       "      <td>Арест</td>\n",
       "      <td>NaN</td>\n",
       "      <td>NaN</td>\n",
       "      <td>деньги должны вернуться</td>\n",
       "    </tr>\n",
       "  </tbody>\n",
       "</table>\n",
       "</div>"
      ],
      "text/plain": [
       "  intent_id     domain  labeled  \\\n",
       "0     gi009  d_general        1   \n",
       "1     gi009  d_general        1   \n",
       "2     gi009  d_general        1   \n",
       "3     gi009  d_general        1   \n",
       "4     gi009  d_general        1   \n",
       "\n",
       "                                             message     mode  \\\n",
       "0  а деньги , которые внесла они безвозвратно ушл...  активен   \n",
       "1    а деньги которые они заморозили они вернуться ?  активен   \n",
       "2                        а деньги приставы вернули ?  активен   \n",
       "3  а если арест со счета сняли удержанные средств...  активен   \n",
       "4                  а когда деньги должны вернуться ?  активен   \n",
       "\n",
       "                                     intent  \\\n",
       "0  будут ли возвращены арестованные деньги?   \n",
       "1  будут ли возвращены арестованные деньги?   \n",
       "2  будут ли возвращены арестованные деньги?   \n",
       "3  будут ли возвращены арестованные деньги?   \n",
       "4  будут ли возвращены арестованные деньги?   \n",
       "\n",
       "                                             nanswer xmlcommand  \\\n",
       "0  Будут ли возвращены денежные средства и в каки...        NaN   \n",
       "1                                                NaN        NaN   \n",
       "2                                                NaN        NaN   \n",
       "3                                                NaN        NaN   \n",
       "4                                                NaN        NaN   \n",
       "\n",
       "           classes              terms  groups  threshold_explicit  \\\n",
       "0  вопрос,ситуация  арест,поступление  Арест                  NaN   \n",
       "1  вопрос,ситуация                NaN  Арест                  NaN   \n",
       "2  вопрос,ситуация                NaN  Арест                  NaN   \n",
       "3  вопрос,ситуация  снятие,арест,счет  Арест                  NaN   \n",
       "4     вопрос,когда                NaN  Арест                  NaN   \n",
       "\n",
       "   threshold_lowest                                             text  \n",
       "0               NaN    деньги которые внесла безвозвратно ушли арест  \n",
       "1               NaN              деньги которые заморозили вернуться  \n",
       "2               NaN                          деньги приставы вернуть  \n",
       "3               NaN  арест счета сняли удержанные средства вернуться  \n",
       "4               NaN                          деньги должны вернуться  "
      ]
     },
     "execution_count": 64,
     "metadata": {},
     "output_type": "execute_result"
    }
   ],
   "source": [
    "df.head()"
   ]
  },
  {
   "cell_type": "code",
   "execution_count": 76,
   "metadata": {},
   "outputs": [
    {
     "data": {
      "text/plain": [
       "\"LATIN &EVAL{code=_ret=setRowMode(ctx,'nochoice')_}\""
      ]
     },
     "execution_count": 76,
     "metadata": {},
     "output_type": "execute_result"
    }
   ],
   "source": [
    "df['intent'].unique()[270]"
   ]
  },
  {
   "cell_type": "code",
   "execution_count": null,
   "metadata": {},
   "outputs": [],
   "source": []
  },
  {
   "cell_type": "markdown",
   "metadata": {
    "slideshow": {
     "slide_type": "slide"
    }
   },
   "source": [
    "### Удаление стоп-лемм"
   ]
  },
  {
   "cell_type": "code",
   "execution_count": 65,
   "metadata": {
    "slideshow": {
     "slide_type": "subslide"
    }
   },
   "outputs": [],
   "source": [
    "mystoplemmas = ['который','прошлый','сей', 'свой', 'наш', 'мочь', 'год']\n",
    "def  remove_stoplemmas(text, mystoplemmas = mystoplemmas):\n",
    "    try:\n",
    "        return \" \".join([token for token in text.split() if not token in mystoplemmas])\n",
    "    except:\n",
    "        return \"\"\n",
    "\n",
    "df.text = df.text.apply(remove_stoplemmas)   "
   ]
  },
  {
   "cell_type": "code",
   "execution_count": 66,
   "metadata": {},
   "outputs": [
    {
     "name": "stdout",
     "output_type": "stream",
     "text": [
      "('не', 13433)\n",
      "('кредит', 9510)\n",
      "('карта', 7557)\n",
      "('могу', 7514)\n",
      "('почему', 5693)\n",
      "('карту', 4864)\n",
      "('хочу', 4723)\n",
      "('банк', 3956)\n",
      "('карты', 3890)\n",
      "('карте', 3871)\n"
     ]
    }
   ],
   "source": [
    "from collections import Counter\n",
    "\n",
    "lemmata = []\n",
    "for index, row in df.iterrows():\n",
    "    lemmata += row['text'].split()\n",
    "cnt = Counter(lemmata)\n",
    "for i in cnt.most_common(10):\n",
    "    print(i)"
   ]
  },
  {
   "cell_type": "code",
   "execution_count": 67,
   "metadata": {},
   "outputs": [
    {
     "data": {
      "image/png": "[encoded data removed]",
      "text/plain": [
       "<Figure size 432x288 with 1 Axes>"
      ]
     },
     "metadata": {
      "needs_background": "light"
     },
     "output_type": "display_data"
    }
   ],
   "source": [
    "from wordcloud import *\n",
    "word_freq = [i for i in cnt.most_common(100)]\n",
    "wd = WordCloud(background_color = 'white')\n",
    "wd.generate_from_frequencies(dict(word_freq))\n",
    "plt.figure()\n",
    "plt.imshow(wd, interpolation = 'bilinear')\n",
    "plt.axis('off')\n",
    "plt.show()"
   ]
  },
  {
   "cell_type": "markdown",
   "metadata": {},
   "source": [
    "## Извлечение ключевых словосочетаний\n",
    "\n",
    "\n",
    "Ключевые слова и словосочетания сложно определить формально. Поскольку определений ключевых слов и словосочетаний множество, существует масса методов их извлечения:\n",
    "* с учителем VS без учителя\n",
    "* частотные VS посложнее\n",
    "* из одного текста VS из коллекции текстов\n",
    "* слова (униграммы) VS биграммы VS $N$-граммы\n",
    "* термины VS именованные сущности VS коллокации\n",
    "* последовательные слова VS с использованием окна"
   ]
  },
  {
   "cell_type": "markdown",
   "metadata": {},
   "source": [
    "### этапы извлечения ключевых слов и словосочетаний:\n",
    "1. Порождение кандидатов\n",
    "2. Оценка свойств кандидатов\n",
    "3. Выбор лучших кандидатов\n",
    "\n",
    "### методы извлечения ключевых слов и словосочетаний:\n",
    "* Морфологические шаблоны\n",
    "* Меры ассоциации биграмм: PMI, T-Score, LLR\n",
    "* Графовые методы: TextRank [Mihalcea, Tarau, 2004]\n",
    "* RAKE [Rose et al., 2010]\n",
    "* Синтаксические шаблоны\n"
   ]
  },
  {
   "cell_type": "markdown",
   "metadata": {},
   "source": [
    "### Морфологические шаблоны\n",
    "\n",
    "Можно использовать парсер  Yargy. \n",
    "\n",
    "Простейший шаблон ПРИЛ + СУЩ\n",
    "\n",
    "```\n",
    "S -> Adj<gnc-agr[1]> Noun<rt,gnc-agr[1]>; \n",
    "```"
   ]
  },
  {
   "cell_type": "markdown",
   "metadata": {
    "slideshow": {
     "slide_type": "subslide"
    }
   },
   "source": [
    "Переезжаем из DataFrame в списки:"
   ]
  },
  {
   "cell_type": "code",
   "execution_count": 107,
   "metadata": {
    "slideshow": {
     "slide_type": "subslide"
    }
   },
   "outputs": [],
   "source": [
    "tokens_by_topic = []\n",
    "topic_names = []\n",
    "for topic in df['intent'].unique():\n",
    "#     if df['intent'].value_counts()[topic] > 100: \n",
    "#         print(topic)\n",
    "    tokens = []\n",
    "    sample = df[df['intent']==topic]#.sample(n=100)\n",
    "    if len(sample.text.unique())==1:\n",
    "        continue\n",
    "\n",
    "#     sample.text = sample.text.str.lower()\n",
    "#     sample.text = sample.text.apply(words_only)\n",
    "#     sample.text = sample.text.apply(remove_stopwords) \n",
    "#     sample.text = sample.text.apply(lemmatize)\n",
    "#     sample.text = sample.text.apply(remove_stoplemmas) \n",
    "    topic_names.append(topic) # имена топиков\n",
    "    for i in range(len(sample)):\n",
    "        tokens += sample.text.iloc[i].split()\n",
    "    tokens_by_topic.append(tokens)"
   ]
  },
  {
   "cell_type": "code",
   "execution_count": 80,
   "metadata": {},
   "outputs": [
    {
     "data": {
      "text/plain": [
       "268"
      ]
     },
     "execution_count": 80,
     "metadata": {},
     "output_type": "execute_result"
    }
   ],
   "source": [
    "len(tokens_by_topic)"
   ]
  },
  {
   "cell_type": "markdown",
   "metadata": {
    "slideshow": {
     "slide_type": "subslide"
    }
   },
   "source": [
    "Выберем тему, из текстов про которую будем извлекать ключевые слова:"
   ]
  },
  {
   "cell_type": "code",
   "execution_count": 82,
   "metadata": {
    "slideshow": {
     "slide_type": "subslide"
    }
   },
   "outputs": [
    {
     "data": {
      "text/plain": [
       "\"заказать обратный звонок &EVAL{code=_ret=setRowMode(ctx,'*chat')_}\""
      ]
     },
     "execution_count": 82,
     "metadata": {},
     "output_type": "execute_result"
    }
   ],
   "source": [
    "topic_id = 10\n",
    "df['intent'].unique()[topic_id]"
   ]
  },
  {
   "cell_type": "markdown",
   "metadata": {},
   "source": [
    "### Использование мер связности \n",
    "\n",
    "\n",
    "$w_1, w_2$ -- два слова\n",
    "\n",
    "$f(w_1), f(w_2)$ -- их частоты\n",
    "\n",
    "$f(w_1, w_2)$ -- совместная частота биграммы $w_1 w_2$\n",
    "\n",
    "$N$ -- число слов\n",
    "\n",
    "$PMI(w_1, w_2) = \\log \\frac{f(w_1, w_2)}{f(w_1)f(w_2)}$\n",
    "\n",
    "$T-score(w_1, w_2) = \\frac{f(w_1,w_2)-f(w_1)*f(w_2)}{\\sqrt{f(w_1,w_2)/N}}$\n",
    "\n",
    "Другие меры связности: $\\chi^2$, $\\texttt{log likelihood ratio}$"
   ]
  },
  {
   "cell_type": "markdown",
   "metadata": {
    "slideshow": {
     "slide_type": "subslide"
    }
   },
   "source": [
    "Извлекаем биграммы по разным мерам связности:"
   ]
  },
  {
   "cell_type": "code",
   "execution_count": 83,
   "metadata": {
    "slideshow": {
     "slide_type": "subslide"
    }
   },
   "outputs": [
    {
     "name": "stdout",
     "output_type": "stream",
     "text": [
      "Wall time: 7.95 ms\n"
     ]
    }
   ],
   "source": [
    "%%time \n",
    "import nltk\n",
    "from nltk.collocations import *\n",
    "N_best = 100 # число извлекаемых биграм\n",
    "\n",
    "bigram_measures = nltk.collocations.BigramAssocMeasures() # класс для мер ассоциации биграм\n",
    "finder = BigramCollocationFinder.from_words(tokens_by_topic[topic_id]) # класс для хранения и извлечения биграм\n",
    "finder.apply_freq_filter(3) # избавимся от биграм, которые встречаются реже трех раз\n",
    "raw_freq_ranking = [' '.join(i) for i in finder.nbest(bigram_measures.raw_freq, N_best)] # выбираем топ-10 биграм по частоте \n",
    "tscore_ranking = [' '.join(i) for i in finder.nbest(bigram_measures.student_t, N_best)] # выбираем топ-100 биграм по каждой мере \n",
    "pmi_ranking =  [' '.join(i) for i in finder.nbest(bigram_measures.pmi, N_best)]\n",
    "llr_ranking = [' '. join(i) for i in finder.nbest(bigram_measures.likelihood_ratio, N_best)]\n",
    "chi2_ranking =  [' '.join(i) for i in finder.nbest(bigram_measures.chi_sq, N_best)]"
   ]
  },
  {
   "cell_type": "markdown",
   "metadata": {
    "slideshow": {
     "slide_type": "subslide"
    }
   },
   "source": [
    "Результаты:"
   ]
  },
  {
   "cell_type": "code",
   "execution_count": 86,
   "metadata": {
    "slideshow": {
     "slide_type": "subslide"
    }
   },
   "outputs": [
    {
     "data": {
      "text/html": [
       "<div>\n",
       "<style scoped>\n",
       "    .dataframe tbody tr th:only-of-type {\n",
       "        vertical-align: middle;\n",
       "    }\n",
       "\n",
       "    .dataframe tbody tr th {\n",
       "        vertical-align: top;\n",
       "    }\n",
       "\n",
       "    .dataframe thead th {\n",
       "        text-align: right;\n",
       "    }\n",
       "</style>\n",
       "<table border=\"1\" class=\"dataframe\">\n",
       "  <thead>\n",
       "    <tr style=\"text-align: right;\">\n",
       "      <th></th>\n",
       "      <th>raw_freq</th>\n",
       "      <th>pmi</th>\n",
       "      <th>t-score</th>\n",
       "      <th>chi2</th>\n",
       "      <th>llr</th>\n",
       "    </tr>\n",
       "  </thead>\n",
       "  <tbody>\n",
       "    <tr>\n",
       "      <th>0</th>\n",
       "      <td>не могу</td>\n",
       "      <td>горячую линию</td>\n",
       "      <td>не могу</td>\n",
       "      <td>горячую линию</td>\n",
       "      <td>не могу</td>\n",
       "    </tr>\n",
       "    <tr>\n",
       "      <th>1</th>\n",
       "      <td>могу дозвониться</td>\n",
       "      <td>горячей линии</td>\n",
       "      <td>могу дозвониться</td>\n",
       "      <td>горячей линии</td>\n",
       "      <td>могу дозвониться</td>\n",
       "    </tr>\n",
       "    <tr>\n",
       "      <th>2</th>\n",
       "      <td>обратный звонка</td>\n",
       "      <td>помощь оператора</td>\n",
       "      <td>обратный звонка</td>\n",
       "      <td>могу дозвониться</td>\n",
       "      <td>обратный звонка</td>\n",
       "    </tr>\n",
       "    <tr>\n",
       "      <th>3</th>\n",
       "      <td>заказать обратный</td>\n",
       "      <td>позвоните срочный</td>\n",
       "      <td>заказать обратный</td>\n",
       "      <td>не могу</td>\n",
       "      <td>заказать обратный</td>\n",
       "    </tr>\n",
       "    <tr>\n",
       "      <th>4</th>\n",
       "      <td>заказать звонок</td>\n",
       "      <td>свяжитесь мный</td>\n",
       "      <td>заказать звонок</td>\n",
       "      <td>обратный звонка</td>\n",
       "      <td>заказать звонок</td>\n",
       "    </tr>\n",
       "    <tr>\n",
       "      <th>5</th>\n",
       "      <td>звонок оператор</td>\n",
       "      <td>невозможно дозвониться</td>\n",
       "      <td>звонок оператор</td>\n",
       "      <td>заказать обратный</td>\n",
       "      <td>звонок оператор</td>\n",
       "    </tr>\n",
       "    <tr>\n",
       "      <th>6</th>\n",
       "      <td>позвонить позвонить</td>\n",
       "      <td>связаться оператором</td>\n",
       "      <td>можете перезвонить</td>\n",
       "      <td>помощь оператора</td>\n",
       "      <td>связаться мный</td>\n",
       "    </tr>\n",
       "    <tr>\n",
       "      <th>7</th>\n",
       "      <td>звонка заказать</td>\n",
       "      <td>позвонил оператор</td>\n",
       "      <td>звонка заказать</td>\n",
       "      <td>свяжитесь мный</td>\n",
       "      <td>никто не</td>\n",
       "    </tr>\n",
       "    <tr>\n",
       "      <th>8</th>\n",
       "      <td>можете перезвонить</td>\n",
       "      <td>хочу перезвонил</td>\n",
       "      <td>обратный звонок</td>\n",
       "      <td>заказать звонок</td>\n",
       "      <td>можете перезвонить</td>\n",
       "    </tr>\n",
       "    <tr>\n",
       "      <th>9</th>\n",
       "      <td>обратный звонок</td>\n",
       "      <td>свяжется мный</td>\n",
       "      <td>позвонить позвонить</td>\n",
       "      <td>связаться мный</td>\n",
       "      <td>свяжитесь мный</td>\n",
       "    </tr>\n",
       "  </tbody>\n",
       "</table>\n",
       "</div>"
      ],
      "text/plain": [
       "              raw_freq                     pmi              t-score  \\\n",
       "0              не могу           горячую линию              не могу   \n",
       "1     могу дозвониться           горячей линии     могу дозвониться   \n",
       "2      обратный звонка        помощь оператора      обратный звонка   \n",
       "3    заказать обратный       позвоните срочный    заказать обратный   \n",
       "4      заказать звонок          свяжитесь мный      заказать звонок   \n",
       "5      звонок оператор  невозможно дозвониться      звонок оператор   \n",
       "6  позвонить позвонить    связаться оператором   можете перезвонить   \n",
       "7      звонка заказать       позвонил оператор      звонка заказать   \n",
       "8   можете перезвонить         хочу перезвонил      обратный звонок   \n",
       "9      обратный звонок           свяжется мный  позвонить позвонить   \n",
       "\n",
       "                chi2                 llr  \n",
       "0      горячую линию             не могу  \n",
       "1      горячей линии    могу дозвониться  \n",
       "2   могу дозвониться     обратный звонка  \n",
       "3            не могу   заказать обратный  \n",
       "4    обратный звонка     заказать звонок  \n",
       "5  заказать обратный     звонок оператор  \n",
       "6   помощь оператора      связаться мный  \n",
       "7     свяжитесь мный            никто не  \n",
       "8    заказать звонок  можете перезвонить  \n",
       "9     связаться мный      свяжитесь мный  "
      ]
     },
     "execution_count": 86,
     "metadata": {},
     "output_type": "execute_result"
    }
   ],
   "source": [
    "rankings = pd.DataFrame({ 'chi2': chi2_ranking, 'llr':llr_ranking, 't-score' : tscore_ranking, 'pmi': pmi_ranking, 'raw_freq':raw_freq_ranking})\n",
    "rankings = rankings[['raw_freq', 'pmi', 't-score', 'chi2', 'llr']]\n",
    "rankings.head(10)"
   ]
  },
  {
   "cell_type": "markdown",
   "metadata": {
    "slideshow": {
     "slide_type": "subslide"
    }
   },
   "source": [
    "Похожи ли списки биграм?"
   ]
  },
  {
   "cell_type": "code",
   "execution_count": 88,
   "metadata": {
    "slideshow": {
     "slide_type": "subslide"
    }
   },
   "outputs": [
    {
     "data": {
      "text/plain": [
       "<matplotlib.axes._subplots.AxesSubplot at 0x2304ab3b4a8>"
      ]
     },
     "execution_count": 88,
     "metadata": {},
     "output_type": "execute_result"
    },
    {
     "data": {
      "image/png": "[encoded data removed]",
      "text/plain": [
       "<Figure size 432x288 with 2 Axes>"
      ]
     },
     "metadata": {
      "needs_background": "light"
     },
     "output_type": "display_data"
    }
   ],
   "source": [
    "from scipy.stats import spearmanr\n",
    "import seaborn as sns\n",
    "%matplotlib inline\n",
    "corr = spearmanr(rankings).correlation\n",
    "sns.heatmap(corr, annot=True, xticklabels = list(rankings), yticklabels = list(rankings))"
   ]
  },
  {
   "cell_type": "code",
   "execution_count": 135,
   "metadata": {},
   "outputs": [
    {
     "name": "stderr",
     "output_type": "stream",
     "text": [
      "100%|███████████████████████████████████████████████████████████████████████████████| 268/268 [00:00<00:00, 288.01it/s]\n"
     ]
    }
   ],
   "source": [
    "keywords_freq = []\n",
    "keywords_llr = []\n",
    "for i in trange(len(topic_names)):\n",
    "    finder = BigramCollocationFinder.from_words(tokens_by_topic[i]) # класс для хранения и извлечения биграм\n",
    "    finder.apply_freq_filter(3) # избавимся от биграм, которые встречаются реже трех раз\n",
    "    raw_freq_ranking = [' '.join(i) for i in finder.nbest(bigram_measures.raw_freq, N_best)] # выбираем топ-10 биграм по частоте \n",
    "    keywords_freq.append(raw_freq_ranking)\n",
    "    llr_ranking = [' '. join(i) for i in finder.nbest(bigram_measures.likelihood_ratio, N_best)] # выбираем топ-10 биграм по отношению правдоподобия\n",
    "    keywords_llr.append(llr_ranking)"
   ]
  },
  {
   "cell_type": "code",
   "execution_count": 136,
   "metadata": {},
   "outputs": [],
   "source": [
    "kw_freq = pd.DataFrame(keywords_freq).transpose()\n",
    "kw_freq.columns = topic_names\n",
    "kw_freq.to_excel('ключевые фразы под интент frequinces.xlsx')\n",
    "\n",
    "kw_llr = pd.DataFrame(keywords_llr).transpose()\n",
    "kw_llr.columns = topic_names\n",
    "kw_llr.to_excel('ключевые фразы под интент likelihood ratio.xlsx')"
   ]
  },
  {
   "cell_type": "markdown",
   "metadata": {},
   "source": [
    "### TextRank\n",
    "\n",
    "* Вершины графа: слова\n",
    "* Ребра графа могут определяться по следующим правилам:\n",
    "    * Последовательные слова\n",
    "    * Слова внутри левого или правого окна в $\\pm$ 2-5 слов  \n",
    "\n",
    "* Ребра могут быть взвешенные или невзвешенные, направленные или ненаправленные\n",
    "* Любая мера центральности графа используется для определения важности вершин в графе. Слова, соответствующие наиболее важным вершинам, считаются ключевыми. \n",
    "* Если две соседние вершины оказываются важными, соответствующие им слова формируют ключевое словосочетание.\n",
    "\n",
    "PageRank: $PR(V_i)=\\frac{(1-d)}{N}+d \\times \\sum_{V_j \\in In(V_i)} \\frac{PR(V_j)}{|Out(V_j)|}$"
   ]
  },
  {
   "cell_type": "markdown",
   "metadata": {
    "slideshow": {
     "slide_type": "subslide"
    }
   },
   "source": [
    "![textrank](img/textrank.png)"
   ]
  },
  {
   "cell_type": "markdown",
   "metadata": {
    "slideshow": {
     "slide_type": "subslide"
    }
   },
   "source": [
    "Используем TextRank для извлечения ключевых слов:"
   ]
  },
  {
   "cell_type": "code",
   "execution_count": 89,
   "metadata": {
    "slideshow": {
     "slide_type": "subslide"
    }
   },
   "outputs": [
    {
     "name": "stdout",
     "output_type": "stream",
     "text": [
      "Wall time: 1.76 s\n"
     ]
    }
   ],
   "source": [
    "%%time\n",
    "from gensim.summarization import keywords\n",
    "text = ' '.join(tokens_by_topic[topic_id])\n",
    "kw = keywords(text)"
   ]
  },
  {
   "cell_type": "markdown",
   "metadata": {
    "slideshow": {
     "slide_type": "subslide"
    }
   },
   "source": [
    "Результаты:"
   ]
  },
  {
   "cell_type": "code",
   "execution_count": 130,
   "metadata": {},
   "outputs": [
    {
     "data": {
      "text/plain": [
       "'позвонить связаться\\nоператор перезвонить\\nперезвоните\\nмогу дозвониться прошу\\nмнои\\nзаказать звонок вашего\\nобратныи звонка\\nхочу\\nпозвоните\\nваш\\nбанк\\nспециалист\\nпусть\\nномер\\nоператора\\nперезвонит\\nбанка\\nпозвонит\\nмныи\\nвопрос\\nнужно срочно\\nкредит\\nдень\\nможете набрать\\nсвяжитесь\\nнужен\\nзвонить\\nтелефон\\nпросьба\\nсотрудник\\nномеру\\nсделать позвонили\\nжду\\nникто\\nоператоры\\nтеть\\nмогли\\nтрубку\\nконсультация\\nсвяжется\\nтелефону\\nвопрс\\nденьги\\nнужна\\nочень\\nтрубка\\nперезвонил\\nмогут\\nсвязь\\nдоговор\\nминут\\nпочему\\nписать\\nдиалог\\nгорячую\\nгорячеи линия\\nзвонили\\nпросто\\nсрочныи\\nспециалиста'"
      ]
     },
     "execution_count": 130,
     "metadata": {},
     "output_type": "execute_result"
    }
   ],
   "source": [
    "kw"
   ]
  },
  {
   "cell_type": "code",
   "execution_count": 90,
   "metadata": {
    "scrolled": true,
    "slideshow": {
     "slide_type": "subslide"
    }
   },
   "outputs": [
    {
     "data": {
      "text/html": [
       "<div>\n",
       "<style scoped>\n",
       "    .dataframe tbody tr th:only-of-type {\n",
       "        vertical-align: middle;\n",
       "    }\n",
       "\n",
       "    .dataframe tbody tr th {\n",
       "        vertical-align: top;\n",
       "    }\n",
       "\n",
       "    .dataframe thead th {\n",
       "        text-align: right;\n",
       "    }\n",
       "</style>\n",
       "<table border=\"1\" class=\"dataframe\">\n",
       "  <thead>\n",
       "    <tr style=\"text-align: right;\">\n",
       "      <th></th>\n",
       "      <th>Text Rank</th>\n",
       "    </tr>\n",
       "  </thead>\n",
       "  <tbody>\n",
       "    <tr>\n",
       "      <th>0</th>\n",
       "      <td>позвонить связаться</td>\n",
       "    </tr>\n",
       "    <tr>\n",
       "      <th>1</th>\n",
       "      <td>оператор перезвонить</td>\n",
       "    </tr>\n",
       "    <tr>\n",
       "      <th>2</th>\n",
       "      <td>перезвоните</td>\n",
       "    </tr>\n",
       "    <tr>\n",
       "      <th>3</th>\n",
       "      <td>могу дозвониться прошу</td>\n",
       "    </tr>\n",
       "    <tr>\n",
       "      <th>4</th>\n",
       "      <td>мнои</td>\n",
       "    </tr>\n",
       "    <tr>\n",
       "      <th>5</th>\n",
       "      <td>заказать звонок вашего</td>\n",
       "    </tr>\n",
       "    <tr>\n",
       "      <th>6</th>\n",
       "      <td>обратныи звонка</td>\n",
       "    </tr>\n",
       "    <tr>\n",
       "      <th>7</th>\n",
       "      <td>хочу</td>\n",
       "    </tr>\n",
       "    <tr>\n",
       "      <th>8</th>\n",
       "      <td>позвоните</td>\n",
       "    </tr>\n",
       "    <tr>\n",
       "      <th>9</th>\n",
       "      <td>ваш</td>\n",
       "    </tr>\n",
       "  </tbody>\n",
       "</table>\n",
       "</div>"
      ],
      "text/plain": [
       "                Text Rank\n",
       "0     позвонить связаться\n",
       "1    оператор перезвонить\n",
       "2             перезвоните\n",
       "3  могу дозвониться прошу\n",
       "4                    мнои\n",
       "5  заказать звонок вашего\n",
       "6         обратныи звонка\n",
       "7                    хочу\n",
       "8               позвоните\n",
       "9                     ваш"
      ]
     },
     "execution_count": 90,
     "metadata": {},
     "output_type": "execute_result"
    }
   ],
   "source": [
    "rankings = pd.DataFrame({'Text Rank': kw.split('\\n')})\n",
    "rankings.head(10)"
   ]
  },
  {
   "cell_type": "code",
   "execution_count": 131,
   "metadata": {},
   "outputs": [
    {
     "name": "stderr",
     "output_type": "stream",
     "text": [
      "100%|████████████████████████████████████████████████████████████████████████████████| 268/268 [00:43<00:00,  6.20it/s]\n"
     ]
    }
   ],
   "source": [
    "keywords_textrank = []\n",
    "for i in trange(len(tokens_by_topic)):\n",
    "    text = ' '.join(tokens_by_topic[i])\n",
    "    kw = keywords(text)\n",
    "    keywords_textrank.append(kw.split('\\n'))"
   ]
  },
  {
   "cell_type": "code",
   "execution_count": 132,
   "metadata": {},
   "outputs": [
    {
     "data": {
      "text/plain": [
       "(268, 261)"
      ]
     },
     "execution_count": 132,
     "metadata": {},
     "output_type": "execute_result"
    }
   ],
   "source": [
    "textrank = pd.DataFrame(keywords_textrank)\n",
    "textrank.shape"
   ]
  },
  {
   "cell_type": "code",
   "execution_count": 133,
   "metadata": {},
   "outputs": [],
   "source": [
    "textrank = textrank.transpose()\n",
    "textrank.columns = topic_names"
   ]
  },
  {
   "cell_type": "code",
   "execution_count": 134,
   "metadata": {},
   "outputs": [],
   "source": [
    "textrank.to_excel('ключевые фразы под интент textrank.xlsx')"
   ]
  },
  {
   "cell_type": "markdown",
   "metadata": {
    "slideshow": {
     "slide_type": "slide"
    }
   },
   "source": [
    "## Мера контрастности $tf-idf$\n",
    "\n",
    "\n",
    "\n",
    "Частота терма [Luhn, 1957]:  Важность терма в тексте пропорциональная его частоте.\n",
    "\n",
    "Обратная документная частота [Spaerck Jones, 1972]: Специфичность терма в тексте обратно пропорциональна числу текстов, в которых терм встречается. \n",
    "\n",
    "$tfidf(term, text, collection) = tf(term, document) \\times idf(term, collection)$\n",
    "\n",
    "Самая популярная комбинация весов: $f_{t,d} \\times \\log \\frac{|D|}{n_t+1}$"
   ]
  },
  {
   "cell_type": "markdown",
   "metadata": {
    "slideshow": {
     "slide_type": "subslide"
    }
   },
   "source": [
    "Извлекаем ключевые слова по $tf-idf$:"
   ]
  },
  {
   "cell_type": "code",
   "execution_count": 125,
   "metadata": {
    "slideshow": {
     "slide_type": "subslide"
    }
   },
   "outputs": [],
   "source": [
    "from sklearn.feature_extraction.text import TfidfVectorizer\n",
    "import numpy as np\n",
    "\n",
    "\n",
    "tfidf = TfidfVectorizer(analyzer='word', ngram_range=(1,3), min_df = 0)\n",
    "tfidf_matrix =  tfidf.fit_transform([' '.join(tokens) for tokens in tokens_by_topic])\n",
    "feature_names = tfidf.get_feature_names() \n",
    "tfidf_ranking = []\n",
    "dense = tfidf_matrix.todense()\n",
    "\n",
    "text = dense[topic_id].tolist()[0]\n",
    "phrase_scores = [pair for pair in zip(range(0, len(text)), text) if pair[1] > 0]\n",
    "sorted_phrase_scores = sorted(phrase_scores, key=lambda t: t[1] * -1)\n",
    "phrases = []\n",
    "for phrase, score in [(feature_names[word_id], score) for (word_id, score) in sorted_phrase_scores][:40]:\n",
    "    tfidf_ranking.append(phrase)"
   ]
  },
  {
   "cell_type": "code",
   "execution_count": 124,
   "metadata": {},
   "outputs": [
    {
     "data": {
      "text/plain": [
       "<268x382798 sparse matrix of type '<class 'numpy.float64'>'\n",
       "\twith 497763 stored elements in Compressed Sparse Row format>"
      ]
     },
     "execution_count": 124,
     "metadata": {},
     "output_type": "execute_result"
    }
   ],
   "source": [
    "tfidf_matrix"
   ]
  },
  {
   "cell_type": "code",
   "execution_count": 126,
   "metadata": {},
   "outputs": [
    {
     "name": "stderr",
     "output_type": "stream",
     "text": [
      "100%|████████████████████████████████████████████████████████████████████████████████| 268/268 [00:13<00:00, 20.03it/s]\n"
     ]
    }
   ],
   "source": [
    "tfidf_ranking_full = []\n",
    "for i in trange(len(tokens_by_topic)):\n",
    "    text = dense[i].tolist()[0]\n",
    "    phrase_scores = [pair for pair in zip(range(0, len(text)), text) if pair[1] > 0]\n",
    "    sorted_phrase_scores = sorted(phrase_scores, key=lambda t: t[1] * -1)\n",
    "#     phrase = []\n",
    "    tfidf_ranking = []\n",
    "    for phrase, score in [(feature_names[word_id], score) for (word_id, score) in sorted_phrase_scores][:40]:\n",
    "        tfidf_ranking.append(phrase)\n",
    "        \n",
    "    tfidf_ranking_full.append(tfidf_ranking)"
   ]
  },
  {
   "cell_type": "code",
   "execution_count": 127,
   "metadata": {},
   "outputs": [
    {
     "data": {
      "text/plain": [
       "268"
      ]
     },
     "execution_count": 127,
     "metadata": {},
     "output_type": "execute_result"
    }
   ],
   "source": [
    "len(topic_names)"
   ]
  },
  {
   "cell_type": "code",
   "execution_count": 128,
   "metadata": {},
   "outputs": [
    {
     "data": {
      "text/html": [
       "<div>\n",
       "<style scoped>\n",
       "    .dataframe tbody tr th:only-of-type {\n",
       "        vertical-align: middle;\n",
       "    }\n",
       "\n",
       "    .dataframe tbody tr th {\n",
       "        vertical-align: top;\n",
       "    }\n",
       "\n",
       "    .dataframe thead th {\n",
       "        text-align: right;\n",
       "    }\n",
       "</style>\n",
       "<table border=\"1\" class=\"dataframe\">\n",
       "  <thead>\n",
       "    <tr style=\"text-align: right;\">\n",
       "      <th></th>\n",
       "      <th>FIFTH &amp;EVAL{code=_ret=setRowMode(ctx,'nochoice')_}</th>\n",
       "      <th>FIRST &amp;EVAL{code=_ret=setRowMode(ctx,'nochoice')_}</th>\n",
       "      <th>FOURTH &amp;EVAL{code=_ret=setRowMode(ctx,'nochoice')_}</th>\n",
       "      <th>NEGATIVE &amp;EVAL{code=_ret=setRowMode(ctx,'nochoice')_}</th>\n",
       "      <th>NOTREPHRASE &amp;EVAL{code=_ret=setRowMode(ctx,'*chat')_}</th>\n",
       "      <th>OTHER &amp;EVAL{code=_ret=setRowMode(ctx,'nochoice')_}</th>\n",
       "      <th>POSITIVE &amp;EVAL{code=_ret=setRowMode(ctx,'nochoice')_}</th>\n",
       "      <th>SECOND &amp;EVAL{code=_ret=setRowMode(ctx,'nochoice')_}</th>\n",
       "      <th>THIRD &amp;EVAL{code=_ret=setRowMode(ctx,'nochoice')_}</th>\n",
       "      <th>end</th>\n",
       "      <th>...</th>\n",
       "      <th>что считается покупкой для начисления процентов по карте «Польза»?</th>\n",
       "      <th>что такое push-уведомление?</th>\n",
       "      <th>что такое баллы «Польза»?</th>\n",
       "      <th>что такое досрочное или частичное погашение кредита?</th>\n",
       "      <th>что такое льготный период (grace period)?</th>\n",
       "      <th>что такое минимальный платёж по кредитной карте?</th>\n",
       "      <th>что такое неподтвержденная транзакция (операция)?</th>\n",
       "      <th>что такое остаток на счёте?</th>\n",
       "      <th>что такое финансовая защита?</th>\n",
       "      <th>что умеет бот? &amp;EVAL{code=_ret=setRowMode(ctx,'*chat')_}</th>\n",
       "    </tr>\n",
       "  </thead>\n",
       "  <tbody>\n",
       "    <tr>\n",
       "      <th>0</th>\n",
       "      <td>вариант</td>\n",
       "      <td>один</td>\n",
       "      <td>вариант</td>\n",
       "      <td>не другий</td>\n",
       "      <td>выше</td>\n",
       "      <td>вопрос</td>\n",
       "      <td>верный</td>\n",
       "      <td>два</td>\n",
       "      <td>вариант</td>\n",
       "      <td>спасибо</td>\n",
       "      <td>...</td>\n",
       "      <td>жкх</td>\n",
       "      <td>уведомление</td>\n",
       "      <td>баллы</td>\n",
       "      <td>такое досрочное</td>\n",
       "      <td>льготный</td>\n",
       "      <td>минимальный</td>\n",
       "      <td>неподтвержденные</td>\n",
       "      <td>такое остаток</td>\n",
       "      <td>защита</td>\n",
       "      <td>уметь</td>\n",
       "    </tr>\n",
       "    <tr>\n",
       "      <th>1</th>\n",
       "      <td>пять</td>\n",
       "      <td>вариант</td>\n",
       "      <td>вар вариант четвереть</td>\n",
       "      <td>не не</td>\n",
       "      <td>не вопрос</td>\n",
       "      <td>не поняли вопрос</td>\n",
       "      <td>верно</td>\n",
       "      <td>два два</td>\n",
       "      <td>вариант три</td>\n",
       "      <td>заранее спасибо спасибо</td>\n",
       "      <td>...</td>\n",
       "      <td>оплата</td>\n",
       "      <td>уведомления</td>\n",
       "      <td>такое</td>\n",
       "      <td>такое досрочное погашение</td>\n",
       "      <td>льготный период</td>\n",
       "      <td>минимальный платёж</td>\n",
       "      <td>неподтвержденные операции</td>\n",
       "      <td>остаток</td>\n",
       "      <td>такое финансовая</td>\n",
       "      <td>уметь уметь</td>\n",
       "    </tr>\n",
       "    <tr>\n",
       "      <th>2</th>\n",
       "      <td>вариант пять</td>\n",
       "      <td>вариант один</td>\n",
       "      <td>вариант четвереть</td>\n",
       "      <td>не</td>\n",
       "      <td>вопрос</td>\n",
       "      <td>не</td>\n",
       "      <td>верный верно</td>\n",
       "      <td>вариант</td>\n",
       "      <td>вариант три третие</td>\n",
       "      <td>зараный жду</td>\n",
       "      <td>...</td>\n",
       "      <td>оплата жкх</td>\n",
       "      <td>уведомление такое</td>\n",
       "      <td>такое баллы</td>\n",
       "      <td>такое</td>\n",
       "      <td>период</td>\n",
       "      <td>минимальный плата</td>\n",
       "      <td>операция</td>\n",
       "      <td>значит остаток</td>\n",
       "      <td>финансовая</td>\n",
       "      <td>уметь умеет</td>\n",
       "    </tr>\n",
       "    <tr>\n",
       "      <th>3</th>\n",
       "      <td>вар вариант пять</td>\n",
       "      <td>вариант один первый</td>\n",
       "      <td>вариант четвереть четвертый</td>\n",
       "      <td>другий</td>\n",
       "      <td>вопрос ответ</td>\n",
       "      <td>поняли вопрос</td>\n",
       "      <td>вс верный верно</td>\n",
       "      <td>вариант два</td>\n",
       "      <td>третие вариант</td>\n",
       "      <td>зараный жду ответ</td>\n",
       "      <td>...</td>\n",
       "      <td>услуг</td>\n",
       "      <td>такое</td>\n",
       "      <td>балл</td>\n",
       "      <td>погашение такое</td>\n",
       "      <td>период такое</td>\n",
       "      <td>такое минимальный</td>\n",
       "      <td>операции</td>\n",
       "      <td>остаток счёт</td>\n",
       "      <td>финансовая защита</td>\n",
       "      <td>уметь уметь уметь</td>\n",
       "    </tr>\n",
       "    <tr>\n",
       "      <th>4</th>\n",
       "      <td>вариант пять пятёрка</td>\n",
       "      <td>вариант первый</td>\n",
       "      <td>четвереть</td>\n",
       "      <td>не другий не</td>\n",
       "      <td>не вопрос ответ</td>\n",
       "      <td>вариант</td>\n",
       "      <td>вс верный</td>\n",
       "      <td>вариант два два</td>\n",
       "      <td>третие вариант вариант</td>\n",
       "      <td>спасибо зараный</td>\n",
       "      <td>...</td>\n",
       "      <td>покупка</td>\n",
       "      <td>такое уведомления</td>\n",
       "      <td>балл такое</td>\n",
       "      <td>досрочное</td>\n",
       "      <td>период льготный период</td>\n",
       "      <td>значит минимальный</td>\n",
       "      <td>неподтвержденные операция</td>\n",
       "      <td>остаток сч</td>\n",
       "      <td>такое финансовая защита</td>\n",
       "      <td>умеет</td>\n",
       "    </tr>\n",
       "  </tbody>\n",
       "</table>\n",
       "<p>5 rows × 268 columns</p>\n",
       "</div>"
      ],
      "text/plain": [
       "  FIFTH &EVAL{code=_ret=setRowMode(ctx,'nochoice')_}  \\\n",
       "0                                            вариант   \n",
       "1                                               пять   \n",
       "2                                       вариант пять   \n",
       "3                                   вар вариант пять   \n",
       "4                               вариант пять пятёрка   \n",
       "\n",
       "  FIRST &EVAL{code=_ret=setRowMode(ctx,'nochoice')_}  \\\n",
       "0                                               один   \n",
       "1                                            вариант   \n",
       "2                                       вариант один   \n",
       "3                                вариант один первый   \n",
       "4                                     вариант первый   \n",
       "\n",
       "  FOURTH &EVAL{code=_ret=setRowMode(ctx,'nochoice')_}  \\\n",
       "0                                            вариант    \n",
       "1                              вар вариант четвереть    \n",
       "2                                  вариант четвереть    \n",
       "3                        вариант четвереть четвертый    \n",
       "4                                          четвереть    \n",
       "\n",
       "  NEGATIVE &EVAL{code=_ret=setRowMode(ctx,'nochoice')_}  \\\n",
       "0                                          не другий      \n",
       "1                                              не не      \n",
       "2                                                 не      \n",
       "3                                             другий      \n",
       "4                                       не другий не      \n",
       "\n",
       "  NOTREPHRASE &EVAL{code=_ret=setRowMode(ctx,'*chat')_}  \\\n",
       "0                                               выше      \n",
       "1                                          не вопрос      \n",
       "2                                             вопрос      \n",
       "3                                       вопрос ответ      \n",
       "4                                    не вопрос ответ      \n",
       "\n",
       "  OTHER &EVAL{code=_ret=setRowMode(ctx,'nochoice')_}  \\\n",
       "0                                             вопрос   \n",
       "1                                   не поняли вопрос   \n",
       "2                                                 не   \n",
       "3                                      поняли вопрос   \n",
       "4                                            вариант   \n",
       "\n",
       "  POSITIVE &EVAL{code=_ret=setRowMode(ctx,'nochoice')_}  \\\n",
       "0                                             верный      \n",
       "1                                              верно      \n",
       "2                                       верный верно      \n",
       "3                                    вс верный верно      \n",
       "4                                          вс верный      \n",
       "\n",
       "  SECOND &EVAL{code=_ret=setRowMode(ctx,'nochoice')_}  \\\n",
       "0                                                два    \n",
       "1                                            два два    \n",
       "2                                            вариант    \n",
       "3                                        вариант два    \n",
       "4                                    вариант два два    \n",
       "\n",
       "  THIRD &EVAL{code=_ret=setRowMode(ctx,'nochoice')_}                      end  \\\n",
       "0                                            вариант                  спасибо   \n",
       "1                                        вариант три  заранее спасибо спасибо   \n",
       "2                                 вариант три третие              зараный жду   \n",
       "3                                     третие вариант        зараный жду ответ   \n",
       "4                             третие вариант вариант          спасибо зараный   \n",
       "\n",
       "   ... что считается покупкой для начисления процентов по карте «Польза»?  \\\n",
       "0  ...                                                жкх                   \n",
       "1  ...                                             оплата                   \n",
       "2  ...                                         оплата жкх                   \n",
       "3  ...                                              услуг                   \n",
       "4  ...                                            покупка                   \n",
       "\n",
       "  что такое push-уведомление? что такое баллы «Польза»?  \\\n",
       "0                 уведомление                     баллы   \n",
       "1                 уведомления                     такое   \n",
       "2           уведомление такое               такое баллы   \n",
       "3                       такое                      балл   \n",
       "4           такое уведомления                балл такое   \n",
       "\n",
       "  что такое досрочное или частичное погашение кредита?  \\\n",
       "0                                    такое досрочное     \n",
       "1                          такое досрочное погашение     \n",
       "2                                              такое     \n",
       "3                                    погашение такое     \n",
       "4                                          досрочное     \n",
       "\n",
       "  что такое льготный период (grace period)?  \\\n",
       "0                                  льготный   \n",
       "1                           льготный период   \n",
       "2                                    период   \n",
       "3                              период такое   \n",
       "4                    период льготный период   \n",
       "\n",
       "  что такое минимальный платёж по кредитной карте?  \\\n",
       "0                                      минимальный   \n",
       "1                               минимальный платёж   \n",
       "2                                минимальный плата   \n",
       "3                                такое минимальный   \n",
       "4                               значит минимальный   \n",
       "\n",
       "  что такое неподтвержденная транзакция (операция)?  \\\n",
       "0                                  неподтвержденные   \n",
       "1                         неподтвержденные операции   \n",
       "2                                          операция   \n",
       "3                                          операции   \n",
       "4                         неподтвержденные операция   \n",
       "\n",
       "  что такое остаток на счёте? что такое финансовая защита?  \\\n",
       "0               такое остаток                       защита   \n",
       "1                     остаток             такое финансовая   \n",
       "2              значит остаток                   финансовая   \n",
       "3                остаток счёт            финансовая защита   \n",
       "4                  остаток сч      такое финансовая защита   \n",
       "\n",
       "  что умеет бот? &EVAL{code=_ret=setRowMode(ctx,'*chat')_}  \n",
       "0                                              уметь        \n",
       "1                                        уметь уметь        \n",
       "2                                        уметь умеет        \n",
       "3                                  уметь уметь уметь        \n",
       "4                                              умеет        \n",
       "\n",
       "[5 rows x 268 columns]"
      ]
     },
     "execution_count": 128,
     "metadata": {},
     "output_type": "execute_result"
    }
   ],
   "source": [
    "topic_key_words = pd.DataFrame(tfidf_ranking_full).transpose()\n",
    "topic_key_words.columns = topic_names\n",
    "topic_key_words.head()"
   ]
  },
  {
   "cell_type": "code",
   "execution_count": 129,
   "metadata": {},
   "outputs": [],
   "source": [
    "topic_key_words.to_excel('ключевые фразы под интент.xlsx')"
   ]
  },
  {
   "cell_type": "code",
   "execution_count": 94,
   "metadata": {},
   "outputs": [
    {
     "data": {
      "text/plain": [
       "['аа',\n",
       " 'аа алексей',\n",
       " 'аа алексей понятный',\n",
       " 'аа не',\n",
       " 'аа не могу',\n",
       " 'аа оплатить',\n",
       " 'аа оплатить услуга',\n",
       " 'аас',\n",
       " 'аас счёт',\n",
       " 'аас счёт счет']"
      ]
     },
     "execution_count": 94,
     "metadata": {},
     "output_type": "execute_result"
    }
   ],
   "source": [
    "feature_names[:10]"
   ]
  },
  {
   "cell_type": "markdown",
   "metadata": {
    "slideshow": {
     "slide_type": "subslide"
    }
   },
   "source": [
    "Результаты:"
   ]
  },
  {
   "cell_type": "code",
   "execution_count": 95,
   "metadata": {
    "slideshow": {
     "slide_type": "subslide"
    }
   },
   "outputs": [
    {
     "data": {
      "text/html": [
       "<div>\n",
       "<style scoped>\n",
       "    .dataframe tbody tr th:only-of-type {\n",
       "        vertical-align: middle;\n",
       "    }\n",
       "\n",
       "    .dataframe tbody tr th {\n",
       "        vertical-align: top;\n",
       "    }\n",
       "\n",
       "    .dataframe thead th {\n",
       "        text-align: right;\n",
       "    }\n",
       "</style>\n",
       "<table border=\"1\" class=\"dataframe\">\n",
       "  <thead>\n",
       "    <tr style=\"text-align: right;\">\n",
       "      <th></th>\n",
       "      <th>tf-idf</th>\n",
       "    </tr>\n",
       "  </thead>\n",
       "  <tbody>\n",
       "    <tr>\n",
       "      <th>0</th>\n",
       "      <td>перезвонить</td>\n",
       "    </tr>\n",
       "    <tr>\n",
       "      <th>1</th>\n",
       "      <td>обратный</td>\n",
       "    </tr>\n",
       "    <tr>\n",
       "      <th>2</th>\n",
       "      <td>позвонить</td>\n",
       "    </tr>\n",
       "    <tr>\n",
       "      <th>3</th>\n",
       "      <td>звонок</td>\n",
       "    </tr>\n",
       "    <tr>\n",
       "      <th>4</th>\n",
       "      <td>звонка</td>\n",
       "    </tr>\n",
       "    <tr>\n",
       "      <th>5</th>\n",
       "      <td>заказать</td>\n",
       "    </tr>\n",
       "    <tr>\n",
       "      <th>6</th>\n",
       "      <td>обратный звонка</td>\n",
       "    </tr>\n",
       "    <tr>\n",
       "      <th>7</th>\n",
       "      <td>дозвониться</td>\n",
       "    </tr>\n",
       "    <tr>\n",
       "      <th>8</th>\n",
       "      <td>заказать обратный</td>\n",
       "    </tr>\n",
       "    <tr>\n",
       "      <th>9</th>\n",
       "      <td>связаться</td>\n",
       "    </tr>\n",
       "  </tbody>\n",
       "</table>\n",
       "</div>"
      ],
      "text/plain": [
       "              tf-idf\n",
       "0        перезвонить\n",
       "1           обратный\n",
       "2          позвонить\n",
       "3             звонок\n",
       "4             звонка\n",
       "5           заказать\n",
       "6    обратный звонка\n",
       "7        дозвониться\n",
       "8  заказать обратный\n",
       "9          связаться"
      ]
     },
     "execution_count": 95,
     "metadata": {},
     "output_type": "execute_result"
    }
   ],
   "source": [
    "rankings = pd.DataFrame({'tf-idf': tfidf_ranking})\n",
    "rankings.head(10)"
   ]
  },
  {
   "cell_type": "markdown",
   "metadata": {},
   "source": [
    "# Векторная модель "
   ]
  },
  {
   "cell_type": "markdown",
   "metadata": {},
   "source": [
    "|           | $d_1$      | $d_2$      | $\\ldots$ | $d_{D}$    |\n",
    "|-----------|------------|------------|----------|--------------|\n",
    "| $w_1$     | $f_{11}$   | $f_{12}$   |          | $f_{1D}$   |\n",
    "| $w_2$     | $f_{21}$   | $f_{22}$   |          | $f_{2D}$   |\n",
    "| $\\ldots$  |            |            |          |            |\n",
    "| $w_{|V|}$ | $f_{V1}$ | $f_{V2}$ |          | $f_{VD}$ |\n",
    "\n",
    "\n",
    "Косинусная мера близости в векторной модели [Salton et. al, 1975]: \n",
    "$ \\cos(d_i, d_j) = \\frac {d_i \\times d_j}{||d_i||||d_j||} = \\frac{\\sum_k f_{ki} \\times f_{kj}} {\\sqrt{(\\sum_k f_{ki})^2} \\sqrt{(\\sum_k f_{kj})^2}}$\n",
    "\n",
    "\n",
    "Если вектора нормированы на длину $||d_i|| = ||d_j|| = 1$, $ \\cos(d_i, d_j) = d_i \\times d_j$"
   ]
  },
  {
   "cell_type": "markdown",
   "metadata": {
    "slideshow": {
     "slide_type": "slide"
    }
   },
   "source": [
    "## Вычисление сходства и Gensim"
   ]
  },
  {
   "cell_type": "markdown",
   "metadata": {
    "slideshow": {
     "slide_type": "subslide"
    }
   },
   "source": [
    "Представление данных в Gensim словарем и корпусом:"
   ]
  },
  {
   "cell_type": "code",
   "execution_count": 97,
   "metadata": {
    "slideshow": {
     "slide_type": "subslide"
    }
   },
   "outputs": [],
   "source": [
    "from gensim.corpora import *\n",
    "df.sort_values(by=['intent'], inplace = True)\n",
    "\n",
    "\n",
    "\n",
    "\n",
    "corpus_sample_train = pd.DataFrame(columns=df.columns)\n",
    "\n",
    "\n",
    "for cl in df['intent'].unique():\n",
    "    corpus_sample = df[df['intent']==cl]\n",
    "#     if len(corpus_sample) > 100:\n",
    "#         sample = corpus_sample.iloc[:101,:]\n",
    "#         sample.text = sample.text.str.lower()\n",
    "#         sample.text = sample.text.apply(words_only)\n",
    "#         sample.text = sample.text.apply(remove_stopwords) \n",
    "#         sample.text = sample.text.apply(lemmatize)\n",
    "#         sample.text = sample.text.apply(remove_stoplemmas) \n",
    "    if len(sample.text.unique())==1:\n",
    "        continue\n",
    "    \n",
    "    corpus_sample_train = corpus_sample_train.append(sample)\n",
    "\n",
    "\n",
    "texts = [df.text.iloc[i].split() for i in range(len(corpus_sample_train))]\n",
    "dictionary = Dictionary(texts)\n",
    "corpus = [dictionary.doc2bow(text) for text in texts]"
   ]
  },
  {
   "cell_type": "markdown",
   "metadata": {
    "slideshow": {
     "slide_type": "subslide"
    }
   },
   "source": [
    "Вычисление сходства по косинусной мере на векторах $tf-idf$:"
   ]
  },
  {
   "cell_type": "code",
   "execution_count": 98,
   "metadata": {
    "slideshow": {
     "slide_type": "subslide"
    }
   },
   "outputs": [
    {
     "name": "stdout",
     "output_type": "stream",
     "text": [
      "Wall time: 35.9 ms\n"
     ]
    }
   ],
   "source": [
    "%%time\n",
    "from gensim.models import  *\n",
    "tfidf = TfidfModel(corpus)\n",
    "corpus_tfidf = tfidf[corpus]"
   ]
  },
  {
   "cell_type": "code",
   "execution_count": 99,
   "metadata": {
    "slideshow": {
     "slide_type": "subslide"
    }
   },
   "outputs": [],
   "source": [
    "from gensim import similarities\n",
    "\n",
    "index = similarities.MatrixSimilarity(tfidf[corpus])\n",
    "sims = index[corpus_tfidf]"
   ]
  },
  {
   "cell_type": "code",
   "execution_count": 100,
   "metadata": {
    "slideshow": {
     "slide_type": "subslide"
    }
   },
   "outputs": [
    {
     "data": {
      "image/png": "[encoded data removed]",
      "text/plain": [
       "<Figure size 720x720 with 2 Axes>"
      ]
     },
     "metadata": {
      "needs_background": "light"
     },
     "output_type": "display_data"
    }
   ],
   "source": [
    "from pylab import pcolor, show, colorbar, xticks, yticks\n",
    "import seaborn as sns\n",
    "import matplotlib.pyplot as plt\n",
    "%matplotlib inline\n",
    "\n",
    "plt.figure(figsize = (10,10))\n",
    "\n",
    "\n",
    "sns.heatmap(data=sims, cmap = 'Spectral').set(xticklabels=[],yticklabels=[])\n",
    "\n",
    "plt.title(\"Матрица близости\")\n",
    "plt.show()"
   ]
  },
  {
   "cell_type": "code",
   "execution_count": 101,
   "metadata": {},
   "outputs": [],
   "source": [
    "# посмотрим на расположение точек классов в двумерном пространстве с помощью TSNE\n",
    "from sklearn.manifold import TSNE\n",
    "from sklearn.decomposition import TruncatedSVD\n",
    "from sklearn.pipeline import Pipeline\n",
    "from sklearn.preprocessing import Normalizer\n",
    "from sklearn.feature_extraction.text import *\n",
    "\n",
    "vectors = TfidfVectorizer().fit_transform(df.text)\n",
    "X_reduced = TruncatedSVD(n_components=5, random_state=0).fit_transform(vectors)\n",
    "X_embedded = TSNE(n_components=2, perplexity=5, verbose=0).fit_transform(X_reduced)\n",
    "\n",
    "vis_df = pd.DataFrame({'X': X_embedded[:, 0], 'Y': X_embedded[:, 1], 'intent' : df['intent']})\n",
    "sns.FacetGrid(vis_df, hue=\"intent\", size=10).map(plt.scatter, \"X\", \"Y\").add_legend()"
   ]
  }
 ],
 "metadata": {
  "celltoolbar": "Slideshow",
  "kernelspec": {
   "display_name": "test-env",
   "language": "python",
   "name": "test-env"
  },
  "language_info": {
   "codemirror_mode": {
    "name": "ipython",
    "version": 3
   },
   "file_extension": ".py",
   "mimetype": "text/x-python",
   "name": "python",
   "nbconvert_exporter": "python",
   "pygments_lexer": "ipython3",
   "version": "3.6.9"
  }
 },
 "nbformat": 4,
 "nbformat_minor": 2
}
