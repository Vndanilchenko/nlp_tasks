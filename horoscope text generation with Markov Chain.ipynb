{
 "cells": [
  {
   "cell_type": "markdown",
   "metadata": {},
   "source": [
    "# ГЕНЕРАЦИЯ ТЕКСТОВ С ПОМОЩЬЮ ЦЕПЕЙ МАРКОВА"
   ]
  },
  {
   "cell_type": "markdown",
   "metadata": {},
   "source": [
    "пример генерации гороскопов"
   ]
  },
  {
   "cell_type": "markdown",
   "metadata": {},
   "source": [
    "Данильченко Вадим"
   ]
  },
  {
   "cell_type": "code",
   "execution_count": 1,
   "metadata": {},
   "outputs": [],
   "source": [
    "import re\n",
    "import random\n",
    "from collections import deque"
   ]
  },
  {
   "cell_type": "code",
   "execution_count": 82,
   "metadata": {},
   "outputs": [
    {
     "name": "stdout",
     "output_type": "stream",
     "text": [
      "11623\n"
     ]
    }
   ],
   "source": [
    "# загрузим тексты гороскопов\n",
    "text = open('../data/гороскопы/гороскопы.txt', encoding='utf-8').read().lower()\n",
    "text = re.sub(r'\\.', ' .', text)\n",
    "text = re.sub(r'\\:', ' :', text)\n",
    "text = text.replace(\"»\", \" END\").replace(\"«\", \"\").replace(\"\\n\", \" \").replace(\".\", \" END\").replace(\",\", \"\")\n",
    "frags = [f.lower() if f != 'END' else f for f in text.split(\" \") if f]\n",
    "print(len(frags))"
   ]
  },
  {
   "cell_type": "code",
   "execution_count": 83,
   "metadata": {},
   "outputs": [],
   "source": [
    "# словарь, который хранит окна в качестве ключа в паре «(ключ, значение)» и распределения в качестве значений в этой паре.\n",
    "# проводится подсчет элементов, чтобы для обращения к какому-либо из них не нужно было пробегать каждый раз по всему набору данных.\n",
    "# присутствуют функции для возврата случайного слова. Одна функция выбирает случайный ключ в словаре, а другая, \n",
    "# принимая во внимание число появлений каждого слова в тексте, возвращает нужное нам слово.\n",
    "class Dictogram(dict):\n",
    "    def __init__(self, iterable=None):\n",
    "        # Инициализируем наше распределение как новый объект класса, \n",
    "        # добавляем имеющиеся элементы\n",
    "        super(Dictogram, self).__init__()\n",
    "        self.types = 0  # число уникальных ключей в распределении\n",
    "        self.tokens = 0  # общее количество всех слов в распределении\n",
    "        if iterable:\n",
    "            self.update(iterable)\n",
    "\n",
    "    def update(self, iterable):\n",
    "        # Обновляем распределение элементами из имеющегося \n",
    "        # итерируемого набора данных\n",
    "        for item in iterable:\n",
    "            if item in self:\n",
    "                self[item] += 1\n",
    "                self.tokens += 1\n",
    "            else:\n",
    "                self[item] = 1\n",
    "                self.types += 1\n",
    "                self.tokens += 1\n",
    "\n",
    "    def count(self, item):\n",
    "        # Возвращаем значение счетчика элемента, или 0\n",
    "        if item in self:\n",
    "            return self[item]\n",
    "        return 0\n",
    "\n",
    "    def return_random_word(self):\n",
    "        random_key = random.sample(self, 1)\n",
    "        # Другой способ:\n",
    "        # random.choice(histogram.keys())\n",
    "        return random_key[0]\n",
    "\n",
    "    def return_weighted_random_word(self):\n",
    "        # Сгенерировать псевдослучайное число между 0 и (n-1),\n",
    "        # где n - общее число слов\n",
    "        random_int = random.randint(0, self.tokens-1)\n",
    "        index = 0\n",
    "#         list_of_keys = \n",
    "        # вывести 'случайный индекс:', random_int\n",
    "        for key in self.keys():\n",
    "            index += self[key]\n",
    "            # вывести индекс\n",
    "            if(index > random_int):\n",
    "                # вывести list_of_keys[i]\n",
    "                return key"
   ]
  },
  {
   "cell_type": "code",
   "execution_count": 84,
   "metadata": {},
   "outputs": [],
   "source": [
    "# если данные не существуют, создаем дикторграмму, иначе просто добавляем к текущему\n",
    "def make_markov_model(data):\n",
    "    markov_model = dict()\n",
    "    for i in range(0, len(data)-1):\n",
    "        if data[i] in markov_model:\n",
    "            # Просто присоединяем к уже существующему распределению\n",
    "            markov_model[data[i]].update([data[i+1]])\n",
    "        else:\n",
    "            markov_model[data[i]] = Dictogram([data[i+1]])\n",
    "    return markov_model"
   ]
  },
  {
   "cell_type": "code",
   "execution_count": 85,
   "metadata": {},
   "outputs": [],
   "source": [
    "# генерация контента, основанная на текущем состоянии - находим все ключи «END» и выбираем слово, следующее за одним из них\n",
    "# после генерации начального слова ищем, какое слово может идти дальше, обращаясь к тому же словарю, \n",
    "# и выбираем нужное на основании комбинации вероятности и случайности. \n",
    "# повторяем пока предложение не достигнет установленной нами длины, и в конце возвращаем его. \n",
    "def generate_random_start(model):\n",
    "    # для генерации любого начального слова:\n",
    "    # return random.choice(model.keys())\n",
    "\n",
    "    # будем использовать те слова, что являлись началом предложений в корпусе\n",
    "    if 'END' in model:\n",
    "        seed_word = 'END'\n",
    "        while seed_word == 'END':\n",
    "            seed_word = model['END'].return_weighted_random_word()\n",
    "        return seed_word\n",
    "    return random.choice(list(model.keys()))\n",
    "\n",
    "\n",
    "def generate_random_sentence(length, markov_model, current_word=None):\n",
    "    if not current_word:\n",
    "        current_word = generate_random_start(markov_model)\n",
    "    sentence = [current_word]\n",
    "    for i in range(0, length):\n",
    "        current_dictogram = markov_model[current_word]\n",
    "        random_weighted_word = current_dictogram.return_weighted_random_word()\n",
    "        current_word = random_weighted_word\n",
    "        sentence.append(current_word)\n",
    "    sentence[0] = sentence[0].capitalize()\n",
    "    return ' '.join(sentence) + '.'\n",
    "#     return sentence"
   ]
  },
  {
   "cell_type": "code",
   "execution_count": 86,
   "metadata": {
    "scrolled": true
   },
   "outputs": [],
   "source": [
    "# инициализируем модель\n",
    "model = make_markov_model(frags)"
   ]
  },
  {
   "cell_type": "code",
   "execution_count": 87,
   "metadata": {},
   "outputs": [
    {
     "data": {
      "text/plain": [
       "'Рыбам состоящим в эпоху водолея – не только в этот период. проблемы и становится много работать по полной программе. актуальна всегда вызывали зависть у самых перспективных. неожиданно возобновятся старые долги расплачиваться по декабрь 2020 год постоянных перемен. однако забегая вперед не ранее декабря или стран и стабильность.'"
      ]
     },
     "execution_count": 87,
     "metadata": {},
     "output_type": "execute_result"
    }
   ],
   "source": [
    "generate_random_sentence(50, model, 'рыбам').replace(\" END\", \".\")"
   ]
  },
  {
   "cell_type": "code",
   "execution_count": 92,
   "metadata": {},
   "outputs": [
    {
     "data": {
      "text/plain": [
       "'Раков ждет удача будет не стоит опасаться не проиграйте! любовь семья - в конце лета и если есть вся первая половина года. сохраняйте равновесие и уже во второй половине года возникнут напряженные моменты во многих семьях реальны перемены в своих неудачах и нужды не ожидается во второй половины мая..'"
      ]
     },
     "execution_count": 92,
     "metadata": {},
     "output_type": "execute_result"
    }
   ],
   "source": [
    "generate_random_sentence(50, model, 'раков').replace(\" END\", \".\")"
   ]
  },
  {
   "cell_type": "code",
   "execution_count": 106,
   "metadata": {},
   "outputs": [
    {
     "data": {
      "text/plain": [
       "'Лев : наступает время – это окажется вся первая половина года – о разводе. в этом направлении. 2020 года гораздо менее интересен возможно и совсем неплохо сложится январь – ее инициаторов понятна – враги и до декабря или в делах или попросит примирения бывший супруг и задуматься об окончательном.'"
      ]
     },
     "execution_count": 106,
     "metadata": {},
     "output_type": "execute_result"
    }
   ],
   "source": [
    "generate_random_sentence(50, model, 'лев').replace(\" END\", \".\")"
   ]
  },
  {
   "cell_type": "code",
   "execution_count": 114,
   "metadata": {},
   "outputs": [
    {
     "data": {
      "text/plain": [
       "'Львов ждет удача в год находится в другом варианте возникнут проблемы которые могут приобрести дом дачу семейный бизнес - в этом случае крупные расходы возрастут а если супруги уже отработавшего себя. гораздо более беспокойна. нестандартный подход и устойчивой власти у супругов во второй половине года окажется квартира дом а.'"
      ]
     },
     "execution_count": 114,
     "metadata": {},
     "output_type": "execute_result"
    }
   ],
   "source": [
    "generate_random_sentence(50, model, 'львов').replace(\" END\", \".\")"
   ]
  },
  {
   "cell_type": "code",
   "execution_count": 116,
   "metadata": {},
   "outputs": [
    {
     "data": {
      "text/plain": [
       "'Тельцам улыбнется удача на все неприятности в роли миротворцев на коллег. чтобы после наслаждаться заслуженным успехом предыдущего времени чтобы попробовать все это цикл соединений сатурна и на рф будет продвижение на вторую половину 2020 год менее значимой нежели работа поможет избежать ошибок. козам можно сказать стрессовой половине года многие.'"
      ]
     },
     "execution_count": 116,
     "metadata": {},
     "output_type": "execute_result"
    }
   ],
   "source": [
    "generate_random_sentence(50, model, 'тельцам').replace(\" END\", \".\")"
   ]
  },
  {
   "cell_type": "code",
   "execution_count": 130,
   "metadata": {},
   "outputs": [
    {
     "data": {
      "text/plain": [
       "'Овен. возможна удачная поездка в период. и долгожданным подарком. для влюбленных трудно что грядут серьезные эмоциональные переживания и наслаждаться жизнью. наступит период когда покажется что делать и мечталось то что многое в ином более скромном варианте агрессивно и на самотек. в 2021 год принесет больших денег.'"
      ]
     },
     "execution_count": 130,
     "metadata": {},
     "output_type": "execute_result"
    }
   ],
   "source": [
    "generate_random_sentence(50, model, 'овен').replace(\" END\", \".\")"
   ]
  },
  {
   "cell_type": "markdown",
   "metadata": {},
   "source": [
    "не увлекаюсь чтением гороскопов, но думаю там примерно так и пишут..)"
   ]
  }
 ],
 "metadata": {
  "kernelspec": {
   "display_name": "seq2seq",
   "language": "python",
   "name": "seq2seq"
  },
  "language_info": {
   "codemirror_mode": {
    "name": "ipython",
    "version": 3
   },
   "file_extension": ".py",
   "mimetype": "text/x-python",
   "name": "python",
   "nbconvert_exporter": "python",
   "pygments_lexer": "ipython3",
   "version": "3.7.4"
  }
 },
 "nbformat": 4,
 "nbformat_minor": 2
}
